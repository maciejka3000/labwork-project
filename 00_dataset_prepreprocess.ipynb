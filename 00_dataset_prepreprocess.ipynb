{
 "cells": [
  {
   "metadata": {},
   "cell_type": "markdown",
   "source": "",
   "id": "3ab84ffeb69f368b"
  },
  {
   "cell_type": "code",
   "id": "initial_id",
   "metadata": {
    "collapsed": true,
    "ExecuteTime": {
     "end_time": "2025-03-21T13:33:42.658056Z",
     "start_time": "2025-03-21T13:33:42.644797Z"
    }
   },
   "source": [
    "### IMPORTS\n",
    "\n",
    "import os\n",
    "import glob\n",
    "import random\n",
    "import shutil\n",
    "import sys\n",
    "from pathlib import Path\n",
    "\n",
    "import yaml\n"
   ],
   "outputs": [],
   "execution_count": 4
  },
  {
   "metadata": {
    "ExecuteTime": {
     "end_time": "2025-03-21T13:33:42.751843Z",
     "start_time": "2025-03-21T13:33:42.709070Z"
    }
   },
   "cell_type": "code",
   "source": [
    "### SCRIPT VARIABLES\n",
    "# get settings\n",
    "\n",
    "with open('settings.yaml', 'r') as f:\n",
    "    sets = yaml.safe_load(f)\n",
    "\n",
    "## IMAGE DATASET PATH\n",
    "dataset_path = sets['path_main_db'] #'/db/input'\n",
    "\n",
    "## AMOUNT OF DESIRED IMAGES\n",
    "im_amount = sets['dataset_size'] # there is 749 images in the database\n",
    "\n",
    "\n",
    "## DATABASE FOLDER NAME\n",
    "dataset_destination_folder_name = sets['path_prepreprocessed_db']\n"
   ],
   "id": "79474082bdba9bfc",
   "outputs": [],
   "execution_count": 5
  },
  {
   "metadata": {
    "ExecuteTime": {
     "end_time": "2025-03-21T13:33:42.826154Z",
     "start_time": "2025-03-21T13:33:42.799119Z"
    }
   },
   "cell_type": "code",
   "source": [
    "#1 Get path of all images\n",
    "\n",
    "# get paths for day and night images\n",
    "\n",
    "all_folders = glob.glob(dataset_path + os.sep + '*')\n",
    "\n",
    "# get all paths of images\n",
    "image_paths = []\n",
    "for folder in all_folders:\n",
    "    folder_content = glob.glob(folder + os.sep + '*.jpg')\n",
    "    image_paths += folder_content\n",
    "\n",
    "if im_amount == 'max':\n",
    "    im_amount = len(image_paths)\n",
    "\n",
    "# select random images\n",
    "image_paths = random.sample(image_paths, k=im_amount)\n"
   ],
   "id": "199fe0921de1a80b",
   "outputs": [],
   "execution_count": 6
  },
  {
   "metadata": {
    "ExecuteTime": {
     "end_time": "2025-03-21T13:33:44.300533Z",
     "start_time": "2025-03-21T13:33:42.889241Z"
    }
   },
   "cell_type": "code",
   "source": [
    "# if folder exists, remove its data\n",
    "if os.path.exists(dataset_destination_folder_name):\n",
    "    shutil.rmtree(dataset_destination_folder_name)\n",
    "\n",
    "#2 copy selected image into new folder\n",
    "os.makedirs(dataset_destination_folder_name, exist_ok=True)\n",
    "\n",
    "\n",
    "\n",
    "# append new data into folder\n",
    "for i, image_path in enumerate(image_paths):\n",
    "    file_type = image_path.split('.')[-1]\n",
    "    if file_type != \"jpg\":\n",
    "        print(\"Warning: {}: unsupported file type, skipping\".format(image_path))\n",
    "        continue\n",
    "\n",
    "    new_file_name = os.path.join(dataset_destination_folder_name, '{}.{}'.format(i, file_type))\n",
    "    shutil.copy(image_path, new_file_name)\n",
    "\n"
   ],
   "id": "8e783822564791f1",
   "outputs": [],
   "execution_count": 7
  }
 ],
 "metadata": {
  "kernelspec": {
   "display_name": "Python 3",
   "language": "python",
   "name": "python3"
  },
  "language_info": {
   "codemirror_mode": {
    "name": "ipython",
    "version": 2
   },
   "file_extension": ".py",
   "mimetype": "text/x-python",
   "name": "python",
   "nbconvert_exporter": "python",
   "pygments_lexer": "ipython2",
   "version": "2.7.6"
  }
 },
 "nbformat": 4,
 "nbformat_minor": 5
}
