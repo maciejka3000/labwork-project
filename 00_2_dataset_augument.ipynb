{
 "cells": [
  {
   "cell_type": "code",
   "id": "initial_id",
   "metadata": {
    "collapsed": true,
    "ExecuteTime": {
     "end_time": "2025-04-30T00:25:45.795821Z",
     "start_time": "2025-04-30T00:25:45.788957Z"
    }
   },
   "source": [
    "### IMPORTS\n",
    "\n",
    "import os\n",
    "import glob\n",
    "import random\n",
    "import shutil\n",
    "import sys\n",
    "from pathlib import Path\n",
    "import cv2\n",
    "import numpy as np\n",
    "import yaml\n",
    "from matplotlib import pyplot as plt\n",
    "import matplotlib.patches as patches"
   ],
   "outputs": [],
   "execution_count": 315
  },
  {
   "metadata": {
    "ExecuteTime": {
     "end_time": "2025-04-30T00:25:45.919830Z",
     "start_time": "2025-04-30T00:25:45.905478Z"
    }
   },
   "cell_type": "code",
   "source": [
    "### SCRIPT VARIABLES\n",
    "# get settings\n",
    "\n",
    "with open('settings.yaml', 'r') as f:\n",
    "    sets = yaml.safe_load(f)\n",
    "\n",
    "## IMAGE DATASET PATH\n",
    "dataset_path = sets['path_main_db'] #'/db/input'\n",
    "\n",
    "## AMOUNT OF DESIRED IMAGES\n",
    "im_amount = sets['dataset_size'] # there is 749 images in the database\n",
    "\n",
    "\n",
    "## DATABASE FOLDER NAME\n",
    "dataset_destination_folder_name = sets['path_prepreprocessed_db']\n",
    "desired_size = sets['img_size']"
   ],
   "id": "76b90da8f3114350",
   "outputs": [],
   "execution_count": 316
  },
  {
   "metadata": {
    "ExecuteTime": {
     "end_time": "2025-04-30T00:25:46.029612Z",
     "start_time": "2025-04-30T00:25:46.000323Z"
    }
   },
   "cell_type": "code",
   "source": [
    "# augument dataset - create more images from single image\n",
    "\n",
    "\n",
    "\n",
    "def draw_centered_rects(img, centers, crop_w, crop_h):\n",
    "    fig, ax = plt.subplots()\n",
    "    ax.imshow(img, cmap='gray')\n",
    "\n",
    "    for (cy, cx) in centers:\n",
    "        x = cx - crop_w // 2\n",
    "        y = cy - crop_h // 2\n",
    "        rect = patches.Rectangle((y, x), crop_w, crop_h,\n",
    "                                 linewidth=1.5, edgecolor='red', facecolor='none')\n",
    "        #ax.plot(cy, cx, 'g*')\n",
    "        ax.add_patch(rect)\n",
    "\n",
    "def augument_image(image_path, desired_size, num_img_multiplicator, remove_old=False, debug=False):\n",
    "    image = cv2.imread(image_path)\n",
    "    image_name = os.path.split(image_path)[-1]\n",
    "    image_name = image_name.split('.')[0]\n",
    "\n",
    "\n",
    "    y_im, x_im = image.shape[:-1]\n",
    "    image_size = random.randint(desired_size[0], desired_size[1])\n",
    "    x_shape, y_shape = image_size, image_size\n",
    "    filter = 1/(image_size**2) * np.ones([image_size, image_size])\n",
    "\n",
    "    how_many_fit = int((x_im // x_shape) * (y_im // y_shape) * num_img_multiplicator)\n",
    "    number_images = 1 if how_many_fit == 0 else how_many_fit\n",
    "\n",
    "\n",
    "\n",
    "    laplaced = cv2.cvtColor(image, cv2.COLOR_BGR2GRAY)\n",
    "    laplaced = cv2.Laplacian(laplaced, cv2.CV_8U) / 255\n",
    "    laplaced = cv2.filter2D(laplaced, -1, filter)\n",
    "    laplaced = (laplaced - laplaced.min()) / (laplaced.max() - laplaced.min())\n",
    "\n",
    "    mask = np.zeros_like(laplaced, dtype=np.float32)\n",
    "    mask[y_shape//2:y_im-(y_shape//2), x_shape//2:x_im-(x_shape//2)] = 1\n",
    "    laplaced = laplaced * mask\n",
    "\n",
    "    out_indexes = []\n",
    "    out_images = []\n",
    "    for i in range(number_images):\n",
    "        raveled_laplacian = laplaced.ravel()\n",
    "        norm_raveled_laplacian = raveled_laplacian / np.sum(raveled_laplacian)\n",
    "        if np.isnan(norm_raveled_laplacian).any():\n",
    "            print('Warning: NaN found in file {}'.format(image_path))\n",
    "            continue\n",
    "        point = np.random.choice((x_im * y_im), 1, p=norm_raveled_laplacian)\n",
    "        y, x = np.unravel_index(point, (y_im, x_im))\n",
    "        y_cnt, x_cnt = y[0], x[0]\n",
    "\n",
    "\n",
    "        min_y = y_cnt - y_shape\n",
    "        max_y = y_cnt + y_shape\n",
    "        min_x = x_cnt - x_shape\n",
    "        max_x = x_cnt + x_shape\n",
    "\n",
    "        min_y = 0 if min_y < 0 else min_y\n",
    "        min_x = 0 if min_x < 0 else min_x\n",
    "\n",
    "        max_y = y_im if max_y > y_im else max_y\n",
    "        max_x = x_im if max_x > x_im else max_x\n",
    "\n",
    "        laplaced[min_y:max_y, min_x:max_x] = 0\n",
    "\n",
    "        new_image = image[y_cnt - (y_shape // 2): y_cnt + (y_shape // 2), x_cnt - (x_shape // 2): x_cnt + (x_shape // 2)]\n",
    "        out_images.append(new_image)\n",
    "        out_indexes.append((x_cnt, y_cnt))\n",
    "\n",
    "        save_name = '{}_{}.bmp'.format(image_name, i)\n",
    "        save_name = os.path.join(dataset_destination_folder_name, save_name)\n",
    "\n",
    "\n",
    "        success = cv2.imwrite(save_name, new_image)\n",
    "\n",
    "    if remove_old:\n",
    "        os.remove(image_path)\n",
    "    if debug:\n",
    "        draw_centered_rects(laplaced, out_indexes, y_shape, x_shape)\n",
    "        plt.plot(out_indexes, 'g*')\n",
    "\n",
    "        for img in out_images:\n",
    "            img = cv2.cvtColor(img, cv2.COLOR_BGR2RGB)\n",
    "            plt.figure()\n",
    "            plt.imshow(img)\n",
    "            plt.show()\n"
   ],
   "id": "e456fd1c37ff99c6",
   "outputs": [],
   "execution_count": 317
  },
  {
   "metadata": {
    "ExecuteTime": {
     "end_time": "2025-04-30T00:42:08.937291Z",
     "start_time": "2025-04-30T00:25:46.190193Z"
    }
   },
   "cell_type": "code",
   "source": [
    "from tqdm import tqdm\n",
    "from multiprocessing import Pool, cpu_count\n",
    "\n",
    "def augment_image_wrapper(args):\n",
    "    image_path, desired_size, num_img_multiplicator = args\n",
    "    augument_image(image_path, desired_size, num_img_multiplicator, remove_old=True, debug=False)\n",
    "\n",
    "image_multiplicator = .25\n",
    "images_paths = glob.glob(os.path.join(dataset_destination_folder_name, '*.*'))\n",
    "image_path = images_paths[1]\n",
    "desired_size = [256, 512]\n",
    "\n",
    "\n",
    "args_list = [(p, desired_size, image_multiplicator) for p in images_paths]\n",
    "#for i, image_path in enumerate(tqdm(images_paths), decs=\"Processing\", unit=\"img/s\"):\n",
    "    #pass\n",
    "    #augument_image(image_path, desired_size, num_img_multiplicator=image_multiplicator, remove_old=True, debug=False)\n",
    "with Pool(processes=cpu_count()) as pool:\n",
    "    list(tqdm(pool.imap_unordered(augment_image_wrapper, args_list),\n",
    "              total=len(args_list),\n",
    "              desc=\"Augmenting\",\n",
    "              unit=\"img\"))\n"
   ],
   "id": "7d0433c7a7c999fb",
   "outputs": [
    {
     "name": "stderr",
     "output_type": "stream",
     "text": [
      "Augmenting:   6%|▌         | 45/749 [00:47<03:01,  3.88img/s]/tmp/ipykernel_582799/3132165452.py:46: RuntimeWarning: invalid value encountered in divide\n",
      "  norm_raveled_laplacian = raveled_laplacian / np.sum(raveled_laplacian)\n"
     ]
    },
    {
     "name": "stdout",
     "output_type": "stream",
     "text": [
      "Warning: NaN found in file /home/maciejka/Desktop/school/S8/labwork-project/db/dataset/182.jpg\n"
     ]
    },
    {
     "name": "stderr",
     "output_type": "stream",
     "text": [
      "Augmenting:  15%|█▌        | 115/749 [02:25<04:09,  2.54img/s]  /tmp/ipykernel_582799/3132165452.py:46: RuntimeWarning: invalid value encountered in divide\n",
      "  norm_raveled_laplacian = raveled_laplacian / np.sum(raveled_laplacian)\n"
     ]
    },
    {
     "name": "stdout",
     "output_type": "stream",
     "text": [
      "Warning: NaN found in file /home/maciejka/Desktop/school/S8/labwork-project/db/dataset/713.jpg\n"
     ]
    },
    {
     "name": "stderr",
     "output_type": "stream",
     "text": [
      "Augmenting:  29%|██▊       | 215/749 [04:17<10:45,  1.21s/img]"
     ]
    },
    {
     "name": "stdout",
     "output_type": "stream",
     "text": [
      "Warning: NaN found in file /home/maciejka/Desktop/school/S8/labwork-project/db/dataset/138.jpg\n"
     ]
    },
    {
     "name": "stderr",
     "output_type": "stream",
     "text": [
      "Augmenting:  58%|█████▊    | 438/749 [07:25<03:49,  1.36img/s]/tmp/ipykernel_582799/3132165452.py:46: RuntimeWarning: invalid value encountered in divide\n",
      "  norm_raveled_laplacian = raveled_laplacian / np.sum(raveled_laplacian)\n"
     ]
    },
    {
     "name": "stdout",
     "output_type": "stream",
     "text": [
      "Warning: NaN found in file /home/maciejka/Desktop/school/S8/labwork-project/db/dataset/601.jpg\n"
     ]
    },
    {
     "name": "stderr",
     "output_type": "stream",
     "text": [
      "Augmenting:  68%|██████▊   | 511/749 [08:49<06:00,  1.52s/img]/tmp/ipykernel_582799/3132165452.py:46: RuntimeWarning: invalid value encountered in divide\n",
      "  norm_raveled_laplacian = raveled_laplacian / np.sum(raveled_laplacian)\n"
     ]
    },
    {
     "name": "stdout",
     "output_type": "stream",
     "text": [
      "Warning: NaN found in file /home/maciejka/Desktop/school/S8/labwork-project/db/dataset/410.jpg\n"
     ]
    },
    {
     "name": "stderr",
     "output_type": "stream",
     "text": [
      "Augmenting:  69%|██████▉   | 520/749 [08:54<02:19,  1.64img/s]/tmp/ipykernel_582799/3132165452.py:46: RuntimeWarning: invalid value encountered in divide\n",
      "  norm_raveled_laplacian = raveled_laplacian / np.sum(raveled_laplacian)\n"
     ]
    },
    {
     "name": "stdout",
     "output_type": "stream",
     "text": [
      "Warning: NaN found in file /home/maciejka/Desktop/school/S8/labwork-project/db/dataset/740.jpg\n"
     ]
    },
    {
     "name": "stderr",
     "output_type": "stream",
     "text": [
      "Augmenting: 100%|██████████| 749/749 [16:22<00:00,  1.31s/img]\n"
     ]
    }
   ],
   "execution_count": 318
  }
 ],
 "metadata": {
  "kernelspec": {
   "display_name": "Python 3",
   "language": "python",
   "name": "python3"
  },
  "language_info": {
   "codemirror_mode": {
    "name": "ipython",
    "version": 2
   },
   "file_extension": ".py",
   "mimetype": "text/x-python",
   "name": "python",
   "nbconvert_exporter": "python",
   "pygments_lexer": "ipython2",
   "version": "2.7.6"
  }
 },
 "nbformat": 4,
 "nbformat_minor": 5
}
