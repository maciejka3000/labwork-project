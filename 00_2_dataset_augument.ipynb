{
 "cells": [
  {
   "cell_type": "code",
   "id": "initial_id",
   "metadata": {
    "collapsed": true,
    "ExecuteTime": {
     "end_time": "2025-05-03T22:41:16.722176Z",
     "start_time": "2025-05-03T22:41:16.719352Z"
    }
   },
   "source": [
    "### IMPORTS\n",
    "\n",
    "import os\n",
    "import glob\n",
    "import random\n",
    "import shutil\n",
    "import sys\n",
    "from concurrent.futures.process import ProcessPoolExecutor\n",
    "from pathlib import Path\n",
    "import cv2\n",
    "import numpy as np\n",
    "import yaml\n",
    "from matplotlib import pyplot as plt\n",
    "import matplotlib.patches as patches\n",
    "from tqdm import tqdm\n",
    "from multiprocessing import Pool, cpu_count"
   ],
   "outputs": [],
   "execution_count": 95
  },
  {
   "metadata": {
    "ExecuteTime": {
     "end_time": "2025-05-03T22:41:16.770032Z",
     "start_time": "2025-05-03T22:41:16.766236Z"
    }
   },
   "cell_type": "code",
   "source": [
    "### SCRIPT VARIABLES\n",
    "# get settings\n",
    "\n",
    "with open('settings.yaml', 'r') as f:\n",
    "    sets = yaml.safe_load(f)\n",
    "\n",
    "## IMAGE DATASET PATH\n",
    "dataset_path = sets['path_main_db'] #'/db/input'\n",
    "\n",
    "## AMOUNT OF DESIRED IMAGES\n",
    "im_amount = sets['dataset_size'] # there is 749 images in the database\n",
    "\n",
    "\n",
    "## DATABASE FOLDER NAME\n",
    "dataset_destination_folder_name = sets['path_prepreprocessed_db']\n",
    "desired_size = sets['img_size']"
   ],
   "id": "76b90da8f3114350",
   "outputs": [],
   "execution_count": 96
  },
  {
   "metadata": {
    "ExecuteTime": {
     "end_time": "2025-05-03T22:41:16.819374Z",
     "start_time": "2025-05-03T22:41:16.812882Z"
    }
   },
   "cell_type": "code",
   "source": [
    "# augument dataset - create more images from single image\n",
    "\n",
    "\n",
    "\n",
    "def draw_centered_rects(img, centers, crop_w, crop_h):\n",
    "    fig, ax = plt.subplots()\n",
    "    ax.imshow(img, cmap='gray')\n",
    "\n",
    "    for (cy, cx) in centers:\n",
    "        x = cx - crop_w // 2\n",
    "        y = cy - crop_h // 2\n",
    "        rect = patches.Rectangle((y, x), crop_w, crop_h,\n",
    "                                 linewidth=1.5, edgecolor='red', facecolor='none')\n",
    "        #ax.plot(cy, cx, 'g*')\n",
    "        ax.add_patch(rect)\n",
    "\n",
    "def augument_image(image_path, desired_size, num_img_multiplicator, remove_old=False, debug=False):\n",
    "    image = cv2.imread(image_path)\n",
    "    image_name = os.path.split(image_path)[-1]\n",
    "    image_name = image_name.split('.')[0]\n",
    "\n",
    "\n",
    "    y_im, x_im = image.shape[:-1]\n",
    "    image_size = random.randint(desired_size[0], desired_size[1])\n",
    "    x_shape, y_shape = image_size, image_size\n",
    "    filter = 1/(image_size**2) * np.ones([image_size, image_size])\n",
    "\n",
    "    how_many_fit = int((x_im // x_shape) * (y_im // y_shape) * num_img_multiplicator)\n",
    "    number_images = 1 if how_many_fit == 0 else how_many_fit\n",
    "\n",
    "\n",
    "\n",
    "    laplaced = cv2.cvtColor(image, cv2.COLOR_BGR2GRAY)\n",
    "    laplaced = cv2.Laplacian(laplaced, cv2.CV_8U) / 255\n",
    "    laplaced = cv2.filter2D(laplaced, -1, filter)\n",
    "    laplaced = (laplaced - laplaced.min()) / (laplaced.max() - laplaced.min())\n",
    "\n",
    "    mask = np.zeros_like(laplaced, dtype=np.float32)\n",
    "    mask[y_shape//2:y_im-(y_shape//2), x_shape//2:x_im-(x_shape//2)] = 1\n",
    "    laplaced = laplaced * mask\n",
    "\n",
    "    out_indexes = []\n",
    "    out_images = []\n",
    "    for i in range(number_images):\n",
    "        raveled_laplacian = laplaced.ravel()\n",
    "        norm_raveled_laplacian = raveled_laplacian / np.sum(raveled_laplacian)\n",
    "        if np.isnan(norm_raveled_laplacian).any():\n",
    "            print('Warning: NaN found in file {}'.format(image_path))\n",
    "            continue\n",
    "        point = np.random.choice((x_im * y_im), 1, p=norm_raveled_laplacian)\n",
    "        y, x = np.unravel_index(point, (y_im, x_im))\n",
    "        y_cnt, x_cnt = y[0], x[0]\n",
    "\n",
    "\n",
    "        min_y = y_cnt - y_shape\n",
    "        max_y = y_cnt + y_shape\n",
    "        min_x = x_cnt - x_shape\n",
    "        max_x = x_cnt + x_shape\n",
    "\n",
    "        min_y = 0 if min_y < 0 else min_y\n",
    "        min_x = 0 if min_x < 0 else min_x\n",
    "\n",
    "        max_y = y_im if max_y > y_im else max_y\n",
    "        max_x = x_im if max_x > x_im else max_x\n",
    "\n",
    "        laplaced[min_y:max_y, min_x:max_x] = 0\n",
    "\n",
    "        new_image = image[y_cnt - (y_shape // 2): y_cnt + (y_shape // 2), x_cnt - (x_shape // 2): x_cnt + (x_shape // 2)]\n",
    "        out_images.append(new_image)\n",
    "        out_indexes.append((x_cnt, y_cnt))\n",
    "\n",
    "        save_name = '{}_{}.bmp'.format(image_name, i)\n",
    "        save_name = os.path.join(dataset_destination_folder_name, save_name)\n",
    "\n",
    "\n",
    "        success = cv2.imwrite(save_name, new_image)\n",
    "\n",
    "    if remove_old:\n",
    "        os.remove(image_path)\n",
    "    if debug:\n",
    "        draw_centered_rects(laplaced, out_indexes, y_shape, x_shape)\n",
    "        plt.plot(out_indexes, 'g*')\n",
    "\n",
    "        for img in out_images:\n",
    "            img = cv2.cvtColor(img, cv2.COLOR_BGR2RGB)\n",
    "            plt.figure()\n",
    "            plt.imshow(img)\n",
    "            plt.show()\n"
   ],
   "id": "e456fd1c37ff99c6",
   "outputs": [],
   "execution_count": 97
  },
  {
   "metadata": {
    "ExecuteTime": {
     "end_time": "2025-05-03T22:48:34.516921Z",
     "start_time": "2025-05-03T22:41:16.865930Z"
    }
   },
   "cell_type": "code",
   "source": [
    "\n",
    "\n",
    "def augment_image_wrapper(args):\n",
    "    image_path, desired_size, num_img_multiplicator = args\n",
    "    augument_image(image_path, desired_size, num_img_multiplicator, remove_old=True, debug=False)\n",
    "\n",
    "image_multiplicator = .25\n",
    "images_paths = glob.glob(os.path.join(dataset_destination_folder_name, '*.*'))\n",
    "image_path = images_paths[1]\n",
    "desired_size = [256, 512]\n",
    "\n",
    "\n",
    "args_list = [(p, desired_size, image_multiplicator) for p in images_paths]\n",
    "#for i, image_path in enumerate(tqdm(images_paths), decs=\"Processing\", unit=\"img/s\"):\n",
    "    #pass\n",
    "    #augument_image(image_path, desired_size, num_img_multiplicator=image_multiplicator, remove_old=True, debug=False)\n",
    "with Pool(processes=cpu_count()) as pool:\n",
    "    list(tqdm(pool.imap_unordered(augment_image_wrapper, args_list),\n",
    "              total=len(args_list),\n",
    "              desc=\"Augmenting\",\n",
    "              unit=\"img\"))\n"
   ],
   "id": "7d0433c7a7c999fb",
   "outputs": [
    {
     "name": "stderr",
     "output_type": "stream",
     "text": [
      "Augmenting:   0%|          | 1/1767 [00:00<05:01,  5.86img/s]/tmp/ipykernel_75755/3132165452.py:46: RuntimeWarning: invalid value encountered in divide\n",
      "  norm_raveled_laplacian = raveled_laplacian / np.sum(raveled_laplacian)\n"
     ]
    },
    {
     "name": "stdout",
     "output_type": "stream",
     "text": [
      "Warning: NaN found in file /home/maciejka/Desktop/school/S8/labwork-project/db/dataset/908.png\n"
     ]
    },
    {
     "name": "stderr",
     "output_type": "stream",
     "text": [
      "Augmenting:   1%|▏         | 25/1767 [00:00<00:44, 39.47img/s]/tmp/ipykernel_75755/3132165452.py:46: RuntimeWarning: invalid value encountered in divide\n",
      "  norm_raveled_laplacian = raveled_laplacian / np.sum(raveled_laplacian)\n"
     ]
    },
    {
     "name": "stdout",
     "output_type": "stream",
     "text": [
      "Warning: NaN found in file /home/maciejka/Desktop/school/S8/labwork-project/db/dataset/1053.png\n"
     ]
    },
    {
     "name": "stderr",
     "output_type": "stream",
     "text": [
      "Augmenting:   6%|▋         | 114/1767 [00:04<01:10, 23.57img/s]/tmp/ipykernel_75755/3132165452.py:46: RuntimeWarning: invalid value encountered in divide\n",
      "  norm_raveled_laplacian = raveled_laplacian / np.sum(raveled_laplacian)\n"
     ]
    },
    {
     "name": "stdout",
     "output_type": "stream",
     "text": [
      "Warning: NaN found in file /home/maciejka/Desktop/school/S8/labwork-project/db/dataset/1117.jpg\n"
     ]
    },
    {
     "name": "stderr",
     "output_type": "stream",
     "text": [
      "Augmenting:   7%|▋         | 124/1767 [00:05<01:26, 18.96img/s]"
     ]
    },
    {
     "name": "stdout",
     "output_type": "stream",
     "text": [
      "Warning: NaN found in file /home/maciejka/Desktop/school/S8/labwork-project/db/dataset/168.png\n"
     ]
    },
    {
     "name": "stderr",
     "output_type": "stream",
     "text": [
      "Augmenting:   8%|▊         | 145/1767 [00:06<01:58, 13.71img/s]/tmp/ipykernel_75755/3132165452.py:46: RuntimeWarning: invalid value encountered in divide\n",
      "  norm_raveled_laplacian = raveled_laplacian / np.sum(raveled_laplacian)\n"
     ]
    },
    {
     "name": "stdout",
     "output_type": "stream",
     "text": [
      "Warning: NaN found in file /home/maciejka/Desktop/school/S8/labwork-project/db/dataset/1228.png\n"
     ]
    },
    {
     "name": "stderr",
     "output_type": "stream",
     "text": [
      "Augmenting:  14%|█▍        | 243/1767 [00:20<03:59,  6.37img/s]/tmp/ipykernel_75755/3132165452.py:46: RuntimeWarning: invalid value encountered in divide\n",
      "  norm_raveled_laplacian = raveled_laplacian / np.sum(raveled_laplacian)\n"
     ]
    },
    {
     "name": "stdout",
     "output_type": "stream",
     "text": [
      "Warning: NaN found in file /home/maciejka/Desktop/school/S8/labwork-project/db/dataset/559.png\n"
     ]
    },
    {
     "name": "stderr",
     "output_type": "stream",
     "text": [
      "Augmenting:  20%|█▉        | 347/1767 [00:39<03:07,  7.59img/s]/tmp/ipykernel_75755/3132165452.py:46: RuntimeWarning: invalid value encountered in divide\n",
      "  norm_raveled_laplacian = raveled_laplacian / np.sum(raveled_laplacian)\n"
     ]
    },
    {
     "name": "stdout",
     "output_type": "stream",
     "text": [
      "Warning: NaN found in file /home/maciejka/Desktop/school/S8/labwork-project/db/dataset/207.png\n"
     ]
    },
    {
     "name": "stderr",
     "output_type": "stream",
     "text": [
      "Augmenting:  22%|██▏       | 387/1767 [00:46<07:22,  3.12img/s]"
     ]
    },
    {
     "name": "stdout",
     "output_type": "stream",
     "text": [
      "Warning: NaN found in file /home/maciejka/Desktop/school/S8/labwork-project/db/dataset/630.png\n"
     ]
    },
    {
     "name": "stderr",
     "output_type": "stream",
     "text": [
      "Augmenting:  23%|██▎       | 404/1767 [00:50<04:44,  4.80img/s]"
     ]
    },
    {
     "name": "stdout",
     "output_type": "stream",
     "text": [
      "Warning: NaN found in file /home/maciejka/Desktop/school/S8/labwork-project/db/dataset/1420.png"
     ]
    },
    {
     "name": "stderr",
     "output_type": "stream",
     "text": [
      "Augmenting:  23%|██▎       | 405/1767 [00:50<05:06,  4.45img/s]"
     ]
    },
    {
     "name": "stdout",
     "output_type": "stream",
     "text": [
      "\n"
     ]
    },
    {
     "name": "stderr",
     "output_type": "stream",
     "text": [
      "Augmenting:  26%|██▋       | 464/1767 [01:08<04:45,  4.56img/s]/tmp/ipykernel_75755/3132165452.py:46: RuntimeWarning: invalid value encountered in divide\n",
      "  norm_raveled_laplacian = raveled_laplacian / np.sum(raveled_laplacian)\n"
     ]
    },
    {
     "name": "stdout",
     "output_type": "stream",
     "text": [
      "Warning: NaN found in file /home/maciejka/Desktop/school/S8/labwork-project/db/dataset/771.png\n"
     ]
    },
    {
     "name": "stderr",
     "output_type": "stream",
     "text": [
      "Augmenting:  28%|██▊       | 490/1767 [01:14<08:07,  2.62img/s]/tmp/ipykernel_75755/3132165452.py:46: RuntimeWarning: invalid value encountered in divide\n",
      "  norm_raveled_laplacian = raveled_laplacian / np.sum(raveled_laplacian)\n",
      "Augmenting:  28%|██▊       | 491/1767 [01:15<07:26,  2.86img/s]"
     ]
    },
    {
     "name": "stdout",
     "output_type": "stream",
     "text": [
      "Warning: NaN found in file /home/maciejka/Desktop/school/S8/labwork-project/db/dataset/385.png\n"
     ]
    },
    {
     "name": "stderr",
     "output_type": "stream",
     "text": [
      "Augmenting:  28%|██▊       | 499/1767 [01:17<06:21,  3.32img/s]"
     ]
    },
    {
     "name": "stdout",
     "output_type": "stream",
     "text": [
      "Warning: NaN found in file /home/maciejka/Desktop/school/S8/labwork-project/db/dataset/890.png\n"
     ]
    },
    {
     "name": "stderr",
     "output_type": "stream",
     "text": [
      "Augmenting:  36%|███▌      | 640/1767 [01:50<03:40,  5.11img/s]/tmp/ipykernel_75755/3132165452.py:46: RuntimeWarning: invalid value encountered in divide\n",
      "  norm_raveled_laplacian = raveled_laplacian / np.sum(raveled_laplacian)\n"
     ]
    },
    {
     "name": "stdout",
     "output_type": "stream",
     "text": [
      "Warning: NaN found in file /home/maciejka/Desktop/school/S8/labwork-project/db/dataset/1608.png\n"
     ]
    },
    {
     "name": "stderr",
     "output_type": "stream",
     "text": [
      "Augmenting:  40%|████      | 709/1767 [02:11<03:31,  5.01img/s]"
     ]
    },
    {
     "name": "stdout",
     "output_type": "stream",
     "text": [
      "Warning: NaN found in file /home/maciejka/Desktop/school/S8/labwork-project/db/dataset/1733.png\n"
     ]
    },
    {
     "name": "stderr",
     "output_type": "stream",
     "text": [
      "Augmenting:  40%|████      | 711/1767 [02:12<03:56,  4.46img/s]"
     ]
    },
    {
     "name": "stdout",
     "output_type": "stream",
     "text": [
      "Warning: NaN found in file /home/maciejka/Desktop/school/S8/labwork-project/db/dataset/442.png\n",
      "Warning: NaN found in file /home/maciejka/Desktop/school/S8/labwork-project/db/dataset/268.png\n"
     ]
    },
    {
     "name": "stderr",
     "output_type": "stream",
     "text": [
      "Augmenting:  41%|████      | 722/1767 [02:14<03:50,  4.54img/s]"
     ]
    },
    {
     "name": "stdout",
     "output_type": "stream",
     "text": [
      "Warning: NaN found in file /home/maciejka/Desktop/school/S8/labwork-project/db/dataset/847.png\n"
     ]
    },
    {
     "name": "stderr",
     "output_type": "stream",
     "text": [
      "Augmenting:  43%|████▎     | 758/1767 [02:19<02:08,  7.84img/s]/tmp/ipykernel_75755/3132165452.py:46: RuntimeWarning: invalid value encountered in divide\n",
      "  norm_raveled_laplacian = raveled_laplacian / np.sum(raveled_laplacian)\n"
     ]
    },
    {
     "name": "stdout",
     "output_type": "stream",
     "text": [
      "Warning: NaN found in file /home/maciejka/Desktop/school/S8/labwork-project/db/dataset/814.png"
     ]
    },
    {
     "name": "stderr",
     "output_type": "stream",
     "text": [
      "Augmenting:  43%|████▎     | 760/1767 [02:19<01:59,  8.41img/s]"
     ]
    },
    {
     "name": "stdout",
     "output_type": "stream",
     "text": [
      "\n"
     ]
    },
    {
     "name": "stderr",
     "output_type": "stream",
     "text": [
      "Augmenting:  43%|████▎     | 768/1767 [02:20<01:49,  9.14img/s]"
     ]
    },
    {
     "name": "stdout",
     "output_type": "stream",
     "text": [
      "Warning: NaN found in file /home/maciejka/Desktop/school/S8/labwork-project/db/dataset/1347.png\n"
     ]
    },
    {
     "name": "stderr",
     "output_type": "stream",
     "text": [
      "Augmenting:  44%|████▎     | 772/1767 [02:21<02:54,  5.70img/s]"
     ]
    },
    {
     "name": "stdout",
     "output_type": "stream",
     "text": [
      "Warning: NaN found in file /home/maciejka/Desktop/school/S8/labwork-project/db/dataset/745.png\n"
     ]
    },
    {
     "name": "stderr",
     "output_type": "stream",
     "text": [
      "Augmenting:  45%|████▍     | 788/1767 [02:24<02:36,  6.27img/s]"
     ]
    },
    {
     "name": "stdout",
     "output_type": "stream",
     "text": [
      "Warning: NaN found in file /home/maciejka/Desktop/school/S8/labwork-project/db/dataset/356.png\n"
     ]
    },
    {
     "name": "stderr",
     "output_type": "stream",
     "text": [
      "Augmenting:  50%|█████     | 884/1767 [02:37<01:47,  8.21img/s]"
     ]
    },
    {
     "name": "stdout",
     "output_type": "stream",
     "text": [
      "Warning: NaN found in file /home/maciejka/Desktop/school/S8/labwork-project/db/dataset/639.png\n"
     ]
    },
    {
     "name": "stderr",
     "output_type": "stream",
     "text": [
      "Augmenting:  52%|█████▏    | 913/1767 [02:41<01:26,  9.84img/s]/tmp/ipykernel_75755/3132165452.py:46: RuntimeWarning: invalid value encountered in divide\n",
      "  norm_raveled_laplacian = raveled_laplacian / np.sum(raveled_laplacian)\n"
     ]
    },
    {
     "name": "stdout",
     "output_type": "stream",
     "text": [
      "Warning: NaN found in file /home/maciejka/Desktop/school/S8/labwork-project/db/dataset/448.png"
     ]
    },
    {
     "name": "stderr",
     "output_type": "stream",
     "text": [
      "Augmenting:  52%|█████▏    | 915/1767 [02:42<02:10,  6.54img/s]"
     ]
    },
    {
     "name": "stdout",
     "output_type": "stream",
     "text": [
      "\n"
     ]
    },
    {
     "name": "stderr",
     "output_type": "stream",
     "text": [
      "Augmenting:  52%|█████▏    | 917/1767 [02:42<01:57,  7.20img/s]/tmp/ipykernel_75755/3132165452.py:46: RuntimeWarning: invalid value encountered in divide\n",
      "  norm_raveled_laplacian = raveled_laplacian / np.sum(raveled_laplacian)\n"
     ]
    },
    {
     "name": "stdout",
     "output_type": "stream",
     "text": [
      "Warning: NaN found in file /home/maciejka/Desktop/school/S8/labwork-project/db/dataset/1563.jpg\n"
     ]
    },
    {
     "name": "stderr",
     "output_type": "stream",
     "text": [
      "Augmenting:  52%|█████▏    | 919/1767 [02:42<01:40,  8.46img/s]"
     ]
    },
    {
     "name": "stdout",
     "output_type": "stream",
     "text": [
      "Warning: NaN found in file /home/maciejka/Desktop/school/S8/labwork-project/db/dataset/479.png"
     ]
    },
    {
     "name": "stderr",
     "output_type": "stream",
     "text": [
      "Augmenting:  52%|█████▏    | 921/1767 [02:43<01:58,  7.12img/s]"
     ]
    },
    {
     "name": "stdout",
     "output_type": "stream",
     "text": [
      "\n"
     ]
    },
    {
     "name": "stderr",
     "output_type": "stream",
     "text": [
      "Augmenting:  52%|█████▏    | 923/1767 [02:43<02:39,  5.29img/s]"
     ]
    },
    {
     "name": "stdout",
     "output_type": "stream",
     "text": [
      "Warning: NaN found in file /home/maciejka/Desktop/school/S8/labwork-project/db/dataset/798.png"
     ]
    },
    {
     "name": "stderr",
     "output_type": "stream",
     "text": [
      "Augmenting:  52%|█████▏    | 924/1767 [02:44<03:12,  4.38img/s]"
     ]
    },
    {
     "name": "stdout",
     "output_type": "stream",
     "text": [
      "\n"
     ]
    },
    {
     "name": "stderr",
     "output_type": "stream",
     "text": [
      "Augmenting:  53%|█████▎    | 943/1767 [02:48<03:32,  3.88img/s]/tmp/ipykernel_75755/3132165452.py:46: RuntimeWarning: invalid value encountered in divide\n",
      "  norm_raveled_laplacian = raveled_laplacian / np.sum(raveled_laplacian)\n"
     ]
    },
    {
     "name": "stdout",
     "output_type": "stream",
     "text": [
      "Warning: NaN found in file /home/maciejka/Desktop/school/S8/labwork-project/db/dataset/1391.png\n"
     ]
    },
    {
     "name": "stderr",
     "output_type": "stream",
     "text": [
      "Augmenting:  56%|█████▋    | 994/1767 [02:54<01:10, 10.91img/s]"
     ]
    },
    {
     "name": "stdout",
     "output_type": "stream",
     "text": [
      "Warning: NaN found in file /home/maciejka/Desktop/school/S8/labwork-project/db/dataset/72.png\n"
     ]
    },
    {
     "name": "stderr",
     "output_type": "stream",
     "text": [
      "Augmenting:  58%|█████▊    | 1019/1767 [03:01<06:23,  1.95img/s]"
     ]
    },
    {
     "name": "stdout",
     "output_type": "stream",
     "text": [
      "Warning: NaN found in file /home/maciejka/Desktop/school/S8/labwork-project/db/dataset/1367.png\n"
     ]
    },
    {
     "name": "stderr",
     "output_type": "stream",
     "text": [
      "Augmenting:  59%|█████▊    | 1037/1767 [03:04<02:05,  5.83img/s]"
     ]
    },
    {
     "name": "stdout",
     "output_type": "stream",
     "text": [
      "Warning: NaN found in file /home/maciejka/Desktop/school/S8/labwork-project/db/dataset/424.png\n"
     ]
    },
    {
     "name": "stderr",
     "output_type": "stream",
     "text": [
      "Augmenting:  60%|█████▉    | 1053/1767 [03:06<01:12,  9.81img/s]"
     ]
    },
    {
     "name": "stdout",
     "output_type": "stream",
     "text": [
      "Warning: NaN found in file /home/maciejka/Desktop/school/S8/labwork-project/db/dataset/1504.png\n"
     ]
    },
    {
     "name": "stderr",
     "output_type": "stream",
     "text": [
      "Augmenting:  60%|█████▉    | 1055/1767 [03:06<01:11,  9.90img/s]"
     ]
    },
    {
     "name": "stdout",
     "output_type": "stream",
     "text": [
      "Warning: NaN found in file /home/maciejka/Desktop/school/S8/labwork-project/db/dataset/1638.jpg\n"
     ]
    },
    {
     "name": "stderr",
     "output_type": "stream",
     "text": [
      "Augmenting:  62%|██████▏   | 1088/1767 [03:09<00:49, 13.86img/s]"
     ]
    },
    {
     "name": "stdout",
     "output_type": "stream",
     "text": [
      "Warning: NaN found in file /home/maciejka/Desktop/school/S8/labwork-project/db/dataset/1541.png\n"
     ]
    },
    {
     "name": "stderr",
     "output_type": "stream",
     "text": [
      "Augmenting:  63%|██████▎   | 1112/1767 [03:11<01:04, 10.16img/s]"
     ]
    },
    {
     "name": "stdout",
     "output_type": "stream",
     "text": [
      "Warning: NaN found in file /home/maciejka/Desktop/school/S8/labwork-project/db/dataset/1450.png\n"
     ]
    },
    {
     "name": "stderr",
     "output_type": "stream",
     "text": [
      "Augmenting:  64%|██████▍   | 1138/1767 [03:14<00:41, 15.33img/s]"
     ]
    },
    {
     "name": "stdout",
     "output_type": "stream",
     "text": [
      "Warning: NaN found in file /home/maciejka/Desktop/school/S8/labwork-project/db/dataset/886.png\n",
      "Warning: NaN found in file /home/maciejka/Desktop/school/S8/labwork-project/db/dataset/1647.png\n"
     ]
    },
    {
     "name": "stderr",
     "output_type": "stream",
     "text": [
      "Augmenting:  65%|██████▌   | 1157/1767 [03:16<02:04,  4.91img/s]/tmp/ipykernel_75755/3132165452.py:46: RuntimeWarning: invalid value encountered in divide\n",
      "  norm_raveled_laplacian = raveled_laplacian / np.sum(raveled_laplacian)\n"
     ]
    },
    {
     "name": "stdout",
     "output_type": "stream",
     "text": [
      "Warning: NaN found in file /home/maciejka/Desktop/school/S8/labwork-project/db/dataset/1574.png\n"
     ]
    },
    {
     "name": "stderr",
     "output_type": "stream",
     "text": [
      "Augmenting:  66%|██████▋   | 1172/1767 [03:18<01:12,  8.17img/s]"
     ]
    },
    {
     "name": "stdout",
     "output_type": "stream",
     "text": [
      "Warning: NaN found in file /home/maciejka/Desktop/school/S8/labwork-project/db/dataset/1182.png\n"
     ]
    },
    {
     "name": "stderr",
     "output_type": "stream",
     "text": [
      "Augmenting:  67%|██████▋   | 1191/1767 [03:23<03:06,  3.09img/s]"
     ]
    },
    {
     "name": "stdout",
     "output_type": "stream",
     "text": [
      "Warning: NaN found in file /home/maciejka/Desktop/school/S8/labwork-project/db/dataset/121.png\n"
     ]
    },
    {
     "name": "stderr",
     "output_type": "stream",
     "text": [
      "Augmenting:  69%|██████▉   | 1217/1767 [03:32<05:00,  1.83img/s]"
     ]
    },
    {
     "name": "stdout",
     "output_type": "stream",
     "text": [
      "Warning: NaN found in file /home/maciejka/Desktop/school/S8/labwork-project/db/dataset/738.jpg\n"
     ]
    },
    {
     "name": "stderr",
     "output_type": "stream",
     "text": [
      "Augmenting:  73%|███████▎  | 1292/1767 [03:53<01:18,  6.03img/s]"
     ]
    },
    {
     "name": "stdout",
     "output_type": "stream",
     "text": [
      "Warning: NaN found in file /home/maciejka/Desktop/school/S8/labwork-project/db/dataset/568.png\n"
     ]
    },
    {
     "name": "stderr",
     "output_type": "stream",
     "text": [
      "Augmenting:  75%|███████▍  | 1319/1767 [03:59<01:11,  6.29img/s]"
     ]
    },
    {
     "name": "stdout",
     "output_type": "stream",
     "text": [
      "Warning: NaN found in file /home/maciejka/Desktop/school/S8/labwork-project/db/dataset/1613.jpg\n"
     ]
    },
    {
     "name": "stderr",
     "output_type": "stream",
     "text": [
      "Augmenting:  75%|███████▌  | 1334/1767 [04:00<00:43, 10.00img/s]"
     ]
    },
    {
     "name": "stdout",
     "output_type": "stream",
     "text": [
      "Warning: NaN found in file /home/maciejka/Desktop/school/S8/labwork-project/db/dataset/1115.png\n"
     ]
    },
    {
     "name": "stderr",
     "output_type": "stream",
     "text": [
      "Augmenting:  76%|███████▋  | 1350/1767 [04:02<01:02,  6.71img/s]"
     ]
    },
    {
     "name": "stdout",
     "output_type": "stream",
     "text": [
      "Warning: NaN found in file /home/maciejka/Desktop/school/S8/labwork-project/db/dataset/926.png\n"
     ]
    },
    {
     "name": "stderr",
     "output_type": "stream",
     "text": [
      "Augmenting:  77%|███████▋  | 1368/1767 [04:07<01:17,  5.12img/s]"
     ]
    },
    {
     "name": "stdout",
     "output_type": "stream",
     "text": [
      "Warning: NaN found in file /home/maciejka/Desktop/school/S8/labwork-project/db/dataset/1039.jpg\n"
     ]
    },
    {
     "name": "stderr",
     "output_type": "stream",
     "text": [
      "Augmenting:  82%|████████▏ | 1443/1767 [04:24<00:57,  5.66img/s]"
     ]
    },
    {
     "name": "stdout",
     "output_type": "stream",
     "text": [
      "Warning: NaN found in file /home/maciejka/Desktop/school/S8/labwork-project/db/dataset/1219.png\n"
     ]
    },
    {
     "name": "stderr",
     "output_type": "stream",
     "text": [
      "Augmenting:  85%|████████▍ | 1498/1767 [04:36<00:30,  8.78img/s]"
     ]
    },
    {
     "name": "stdout",
     "output_type": "stream",
     "text": [
      "Warning: NaN found in file /home/maciejka/Desktop/school/S8/labwork-project/db/dataset/1202.png\n"
     ]
    },
    {
     "name": "stderr",
     "output_type": "stream",
     "text": [
      "Augmenting:  88%|████████▊ | 1548/1767 [04:44<00:27,  7.85img/s]"
     ]
    },
    {
     "name": "stdout",
     "output_type": "stream",
     "text": [
      "Warning: NaN found in file /home/maciejka/Desktop/school/S8/labwork-project/db/dataset/1535.png\n"
     ]
    },
    {
     "name": "stderr",
     "output_type": "stream",
     "text": [
      "Augmenting:  89%|████████▊ | 1565/1767 [04:45<00:19, 10.31img/s]"
     ]
    },
    {
     "name": "stdout",
     "output_type": "stream",
     "text": [
      "Warning: NaN found in file /home/maciejka/Desktop/school/S8/labwork-project/db/dataset/221.png\n"
     ]
    },
    {
     "name": "stderr",
     "output_type": "stream",
     "text": [
      "Augmenting:  90%|█████████ | 1594/1767 [04:49<00:26,  6.63img/s]"
     ]
    },
    {
     "name": "stdout",
     "output_type": "stream",
     "text": [
      "Warning: NaN found in file /home/maciejka/Desktop/school/S8/labwork-project/db/dataset/582.png\n"
     ]
    },
    {
     "name": "stderr",
     "output_type": "stream",
     "text": [
      "Augmenting:  94%|█████████▍| 1668/1767 [05:01<00:09, 10.53img/s]"
     ]
    },
    {
     "name": "stdout",
     "output_type": "stream",
     "text": [
      "Warning: NaN found in file /home/maciejka/Desktop/school/S8/labwork-project/db/dataset/485.png\n"
     ]
    },
    {
     "name": "stderr",
     "output_type": "stream",
     "text": [
      "Augmenting:  96%|█████████▌| 1690/1767 [05:04<00:13,  5.58img/s]"
     ]
    },
    {
     "name": "stdout",
     "output_type": "stream",
     "text": [
      "Warning: NaN found in file /home/maciejka/Desktop/school/S8/labwork-project/db/dataset/164.png\n"
     ]
    },
    {
     "name": "stderr",
     "output_type": "stream",
     "text": [
      "Augmenting:  97%|█████████▋| 1706/1767 [05:06<00:06, 10.01img/s]"
     ]
    },
    {
     "name": "stdout",
     "output_type": "stream",
     "text": [
      "Warning: NaN found in file /home/maciejka/Desktop/school/S8/labwork-project/db/dataset/1365.png\n"
     ]
    },
    {
     "name": "stderr",
     "output_type": "stream",
     "text": [
      "Augmenting:  98%|█████████▊| 1738/1767 [05:10<00:04,  6.28img/s]"
     ]
    },
    {
     "name": "stdout",
     "output_type": "stream",
     "text": [
      "Warning: NaN found in file /home/maciejka/Desktop/school/S8/labwork-project/db/dataset/759.png\n"
     ]
    },
    {
     "name": "stderr",
     "output_type": "stream",
     "text": [
      "Augmenting:  99%|█████████▊| 1744/1767 [05:11<00:02,  7.70img/s]"
     ]
    },
    {
     "name": "stdout",
     "output_type": "stream",
     "text": [
      "Warning: NaN found in file /home/maciejka/Desktop/school/S8/labwork-project/db/dataset/1400.png\n"
     ]
    },
    {
     "name": "stderr",
     "output_type": "stream",
     "text": [
      "Augmenting:  99%|█████████▉| 1747/1767 [05:11<00:01, 10.18img/s]"
     ]
    },
    {
     "name": "stdout",
     "output_type": "stream",
     "text": [
      "Warning: NaN found in file /home/maciejka/Desktop/school/S8/labwork-project/db/dataset/352.png\n"
     ]
    },
    {
     "name": "stderr",
     "output_type": "stream",
     "text": [
      "Augmenting: 100%|██████████| 1767/1767 [07:17<00:00,  4.04img/s]\n"
     ]
    }
   ],
   "execution_count": 98
  },
  {
   "metadata": {
    "ExecuteTime": {
     "end_time": "2025-05-03T22:48:34.630983Z",
     "start_time": "2025-05-03T22:48:34.619894Z"
    }
   },
   "cell_type": "code",
   "source": [
    "import pandas as pd\n",
    "from concurrent.futures import ProcessPoolExecutor\n",
    "threshold_entropy = .2\n",
    "threshold_laplacian = .2\n",
    "images_paths = glob.glob(os.path.join(dataset_destination_folder_name, '*.*'))"
   ],
   "id": "67f0fe241a09e6b1",
   "outputs": [],
   "execution_count": 99
  },
  {
   "metadata": {
    "ExecuteTime": {
     "end_time": "2025-05-03T22:48:37.766210Z",
     "start_time": "2025-05-03T22:48:34.640852Z"
    }
   },
   "cell_type": "code",
   "source": [
    "\n",
    "def calculate_entropy(image):\n",
    "    # Convert image to grayscale if it's not already\n",
    "    if len(image.shape) == 3:\n",
    "        image = cv2.cvtColor(image, cv2.COLOR_BGR2GRAY)\n",
    "\n",
    "    # Compute histogram (256 bins for 8-bit images)\n",
    "    hist = cv2.calcHist([image], [0], None, [256], [0,256])\n",
    "    hist_norm = hist.ravel() / hist.sum()  # normalize to get probabilities\n",
    "\n",
    "    # Remove zero entries to avoid log(0)\n",
    "    hist_norm = hist_norm[hist_norm > 0]\n",
    "\n",
    "    # Compute entropy\n",
    "    entropy = -np.sum(hist_norm * np.log2(hist_norm))\n",
    "    return entropy\n",
    "\n",
    "def calculate_variances(path):\n",
    "    img = cv2.imread(path)\n",
    "    laplacian_var = cv2.Laplacian(img, -1).var()\n",
    "    ent = calculate_entropy(img)\n",
    "    return path, ent, laplacian_var\n",
    "\n",
    "last_check = {\n",
    "    'path': [],\n",
    "    'entropy': [],\n",
    "    'laplacian_var': []\n",
    "}\n",
    "\n",
    "with ProcessPoolExecutor() as exe:\n",
    "    for path, entr, laplacian_var in tqdm(\n",
    "            exe.map(calculate_variances, images_paths),\n",
    "            total=len(images_paths),\n",
    "            desc='Computing variances'):\n",
    "        last_check['path'].append(path)\n",
    "        last_check['entropy'].append(entr)\n",
    "        last_check['laplacian_var'].append(laplacian_var)\n",
    "\n"
   ],
   "id": "dc9330c660831083",
   "outputs": [
    {
     "name": "stderr",
     "output_type": "stream",
     "text": [
      "Computing variances: 100%|██████████| 7276/7276 [00:02<00:00, 2464.37it/s]\n"
     ]
    }
   ],
   "execution_count": 100
  },
  {
   "metadata": {
    "ExecuteTime": {
     "end_time": "2025-05-03T22:48:37.880142Z",
     "start_time": "2025-05-03T22:48:37.779463Z"
    }
   },
   "cell_type": "code",
   "source": [
    "df = pd.DataFrame(last_check)\n",
    "len_df = len(df)\n",
    "\n",
    "\n",
    "entropy_cutoff = df['entropy'].quantile(threshold_entropy)\n",
    "laplacian_cutoff = df['laplacian_var'].quantile(threshold_laplacian)\n",
    "\n",
    "print(entropy_cutoff)\n",
    "print(laplacian_cutoff)\n",
    "\n",
    "drop_df = df[\n",
    "    (df['entropy'] < entropy_cutoff) |\n",
    "    (df['laplacian_var'] < laplacian_cutoff)\n",
    "]\n",
    "\n",
    "\n",
    "drop_idx = set(drop_df.index)\n",
    "filtered_df = df.drop(drop_idx)\n",
    "\n",
    "remove_fcn = lambda x: os.remove(x)\n",
    "drop_df['path'].apply(remove_fcn)\n",
    "\n",
    "threshold_entropy = 0\n",
    "threshold_laplacian = 0\n",
    "#filtered_df.sort_values(by='entropy', ascending=True, inplace=True)\n",
    "#filtered_df.reset_index(drop=True, inplace=True)\n"
   ],
   "id": "9a85154b76624348",
   "outputs": [
    {
     "name": "stdout",
     "output_type": "stream",
     "text": [
      "6.1703386306762695\n",
      "31.151807966947175\n"
     ]
    }
   ],
   "execution_count": 101
  },
  {
   "metadata": {
    "ExecuteTime": {
     "end_time": "2025-05-03T22:48:37.892156Z",
     "start_time": "2025-05-03T22:48:37.889848Z"
    }
   },
   "cell_type": "code",
   "source": [
    "drop_df\n",
    "os.path.exists('/home/maciejka/Desktop/school/S8/labwork-project/db/dataset/427_6.bmp')\n",
    "\n",
    "print(len(filtered_df))"
   ],
   "id": "252e62a29ce7ba15",
   "outputs": [
    {
     "name": "stdout",
     "output_type": "stream",
     "text": [
      "5244\n"
     ]
    }
   ],
   "execution_count": 102
  }
 ],
 "metadata": {
  "kernelspec": {
   "display_name": "Python 3",
   "language": "python",
   "name": "python3"
  },
  "language_info": {
   "codemirror_mode": {
    "name": "ipython",
    "version": 2
   },
   "file_extension": ".py",
   "mimetype": "text/x-python",
   "name": "python",
   "nbconvert_exporter": "python",
   "pygments_lexer": "ipython2",
   "version": "2.7.6"
  }
 },
 "nbformat": 4,
 "nbformat_minor": 5
}
