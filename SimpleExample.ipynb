{
 "cells": [
  {
   "cell_type": "code",
   "execution_count": 22,
   "metadata": {},
   "outputs": [
    {
     "name": "stdout",
     "output_type": "stream",
     "text": [
      "Files already downloaded and verified\n",
      "Epoch [1/10], Loss: 0.0193\n",
      "Epoch [2/10], Loss: 0.0170\n",
      "Epoch [3/10], Loss: 0.0137\n",
      "Epoch [4/10], Loss: 0.0121\n",
      "Epoch [5/10], Loss: 0.0142\n",
      "Epoch [6/10], Loss: 0.0141\n",
      "Epoch [7/10], Loss: 0.0135\n",
      "Epoch [8/10], Loss: 0.0121\n",
      "Epoch [9/10], Loss: 0.0105\n",
      "Epoch [10/10], Loss: 0.0116\n"
     ]
    }
   ],
   "source": [
    "import torch\n",
    "import torch.nn as nn\n",
    "import torch.optim as optim\n",
    "import torchvision\n",
    "import torchvision.transforms as transforms\n",
    "import matplotlib.pyplot as plt\n",
    "\n",
    "transform = transforms.Compose([\n",
    "    transforms.ToTensor(),\n",
    "    transforms.Normalize((0.5,), (0.5,))\n",
    "])\n",
    "\n",
    "trainset = torchvision.datasets.CIFAR10(root='./data', train=True, download=True, transform=transform)\n",
    "trainloader = torch.utils.data.DataLoader(trainset, batch_size=64, shuffle=True)\n",
    "\n",
    "def add_noise(img, noise_factor=0.3):\n",
    "    noisy_img = img + noise_factor * torch.randn_like(img)\n",
    "    return torch.clamp(noisy_img, -1, 1)\n",
    "\n",
    "class CNN_Autoencoder(nn.Module):\n",
    "    def __init__(self):\n",
    "        super(CNN_Autoencoder, self).__init__()\n",
    "        # Енкодер\n",
    "        self.encoder = nn.Sequential(\n",
    "            nn.Conv2d(3, 32, kernel_size=3, stride=2, padding=1),  # (3,32,32) -> (32,16,16)\n",
    "            nn.ReLU(),\n",
    "            nn.Conv2d(32, 64, kernel_size=3, stride=2, padding=1), # (32,16,16) -> (64,8,8)\n",
    "            nn.ReLU(),\n",
    "            nn.Conv2d(64, 128, kernel_size=3, stride=2, padding=1), # (64,8,8) -> (128,4,4)\n",
    "            nn.ReLU()\n",
    "        )\n",
    "        # Декодер\n",
    "        self.decoder = nn.Sequential(\n",
    "            nn.ConvTranspose2d(128, 64, kernel_size=3, stride=2, padding=1, output_padding=1), # (128,4,4) -> (64,8,8)\n",
    "            nn.ReLU(),\n",
    "            nn.ConvTranspose2d(64, 32, kernel_size=3, stride=2, padding=1, output_padding=1), # (64,8,8) -> (32,16,16)\n",
    "            nn.ReLU(),\n",
    "            nn.ConvTranspose2d(32, 3, kernel_size=3, stride=2, padding=1, output_padding=1), # (32,16,16) -> (3,32,32)\n",
    "            nn.Tanh()\n",
    "        )\n",
    "\n",
    "    def forward(self, x):\n",
    "        x = self.encoder(x)\n",
    "        x = self.decoder(x)\n",
    "        return x\n",
    "\n",
    "device = torch.device(\"cuda\" if torch.cuda.is_available() else \"cpu\")\n",
    "autoencoder = CNN_Autoencoder().to(device)\n",
    "criterion = nn.MSELoss()\n",
    "optimizer = optim.Adam(autoencoder.parameters(), lr=0.001)\n",
    "\n",
    "num_epochs = 10\n",
    "for epoch in range(num_epochs):\n",
    "    for images, _ in trainloader:\n",
    "        images = images.to(device)\n",
    "        noisy_images = add_noise(images).to(device)\n",
    "        \n",
    "        optimizer.zero_grad()\n",
    "        outputs = autoencoder(noisy_images)\n",
    "        loss = criterion(outputs, images)\n",
    "        loss.backward()\n",
    "        optimizer.step()\n",
    "    \n",
    "    print(f'Epoch [{epoch+1}/{num_epochs}], Loss: {loss.item():.4f}')\n",
    "\n"
   ]
  },
  {
   "cell_type": "code",
   "execution_count": 26,
   "metadata": {},
   "outputs": [
    {
     "data": {
      "image/png": "[encoded data removed]",
      "text/plain": [
       "<Figure size 900x300 with 3 Axes>"
      ]
     },
     "metadata": {},
     "output_type": "display_data"
    }
   ],
   "source": [
    "def show_images(original, noisy, clean):\n",
    "    fig, axes = plt.subplots(1, 3, figsize=(9, 3))\n",
    "\n",
    "    axes[0].imshow(original[0].permute(1, 2, 0).cpu().numpy() * 0.5 + 0.5)\n",
    "    axes[0].set_title(\"Original\")\n",
    "\n",
    "    axes[1].imshow(noisy[0].permute(1, 2, 0).cpu().numpy() * 0.5 + 0.5)\n",
    "    axes[1].set_title(\"Noisy\")\n",
    "\n",
    "    axes[2].imshow(clean[0].permute(1, 2, 0).cpu().numpy() * 0.5 + 0.5)\n",
    "    axes[2].set_title(\"Denoised\")\n",
    "\n",
    "    for ax in axes:\n",
    "        ax.axis(\"off\")\n",
    "\n",
    "    plt.show()\n",
    "\n",
    "test_img, _ = next(iter(trainloader))\n",
    "test_img = test_img.to(device)\n",
    "noisy_img = add_noise(test_img)\n",
    "output_img = autoencoder(noisy_img).detach()\n",
    "\n",
    "show_images(test_img, noisy_img, output_img)\n"
   ]
  },
  {
   "cell_type": "code",
   "execution_count": null,
   "metadata": {},
   "outputs": [],
   "source": []
  }
 ],
 "metadata": {
  "kernelspec": {
   "display_name": "Python 3.12.3 64-bit",
   "language": "python",
   "name": "python3"
  },
  "language_info": {
   "codemirror_mode": {
    "name": "ipython",
    "version": 3
   },
   "file_extension": ".py",
   "mimetype": "text/x-python",
   "name": "python",
   "nbconvert_exporter": "python",
   "pygments_lexer": "ipython3",
   "version": "3.12.3"
  },
  "orig_nbformat": 4,
  "vscode": {
   "interpreter": {
    "hash": "aee8b7b246df8f9039afb4144a1f6fd8d2ca17a180786b69acc140d282b71a49"
   }
  }
 },
 "nbformat": 4,
 "nbformat_minor": 2
}
