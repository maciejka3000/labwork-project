{
 "cells": [
  {
   "cell_type": "code",
   "id": "initial_id",
   "metadata": {
    "collapsed": true,
    "ExecuteTime": {
     "end_time": "2025-03-21T13:35:25.605095Z",
     "start_time": "2025-03-21T13:35:25.346916Z"
    }
   },
   "source": [
    "# imports\n",
    "from src.image_preprocess import ImageProcess\n",
    "import os\n",
    "import glob\n",
    "import yaml\n",
    "import random\n",
    "import shutil\n"
   ],
   "outputs": [],
   "execution_count": 1
  },
  {
   "metadata": {
    "ExecuteTime": {
     "end_time": "2025-03-21T13:35:25.619264Z",
     "start_time": "2025-03-21T13:35:25.610606Z"
    }
   },
   "cell_type": "code",
   "source": [
    "# Get settings from yaml file\n",
    "with open(\"settings.yaml\", 'r') as s:\n",
    "    sets = yaml.safe_load(s)\n",
    "\n",
    "path_input = sets['path_prepreprocessed_db']\n",
    "path_output = sets['path_preprocessed_db']\n",
    "im_sz = sets['img_size']\n",
    "im_resizing_policy = sets['resizing_policy']\n",
    "im_resizing_method = sets['resizing_method']\n",
    "im_max_hz = sets['max_hz']\n",
    "im_gaussian_mu = sets['gaussian_mean']\n",
    "im_gaussian_std = sets['gaussian_std']\n",
    "im_holes_amount = sets['hole_amount']\n",
    "im_holes_radius = sets['hole_radius']\n",
    "\n",
    "save_data_split = sets['data_split']\n"
   ],
   "id": "e356cd1e51d1741",
   "outputs": [],
   "execution_count": 2
  },
  {
   "metadata": {
    "ExecuteTime": {
     "end_time": "2025-03-21T13:35:25.776780Z",
     "start_time": "2025-03-21T13:35:25.755150Z"
    }
   },
   "cell_type": "code",
   "source": [
    "# split images into 3 categories - train, test and val\n",
    "\n",
    "\n",
    "input_images_paths = glob.glob(os.path.join(path_input, '*.*'))\n",
    "im_amount = len(input_images_paths)\n",
    "\n",
    "train_samples_am = int(im_amount * save_data_split[0])\n",
    "test_samples_am = int(im_amount * save_data_split[1])\n",
    "val_samples_am = im_amount - train_samples_am - test_samples_am\n",
    "\n",
    "# get train images\n",
    "train_samples = random.sample(input_images_paths, train_samples_am)\n",
    "_ = [input_images_paths.remove(x) for x in train_samples]\n",
    "# get test images\n",
    "test_samples = random.sample(input_images_paths, test_samples_am)\n",
    "_ = [input_images_paths.remove(x) for x in test_samples]\n",
    "# get val samples\n",
    "val_samples = input_images_paths.copy()\n",
    "\n",
    "images_paths = [train_samples, test_samples, val_samples]\n",
    "images_categories = ['train', 'test', 'val']\n",
    "\n",
    "\n",
    "\n",
    "\n",
    "filelist_dict = dict()\n",
    "for paths, category in zip(images_paths, images_categories):\n",
    "    subfix_image = [os.path.split(path)[-1] for path in paths]\n",
    "    subfix_image = [i.split('.')[0] + '.bmp' for i in subfix_image]\n",
    "    print(subfix_image)\n",
    "\n",
    "    input_path = [os.path.join(path_output, category, 'input', i) for i in subfix_image]\n",
    "    output_path = [os.path.join(path_output, category, 'output', i) for i in subfix_image]\n",
    "\n",
    "    image_dict = dict()\n",
    "    for n in range(len(paths)):\n",
    "        image_dict[n] = {\n",
    "            'source': paths[n],\n",
    "            'output': output_path[n],\n",
    "            'input': input_path[n],\n",
    "        }\n",
    "\n",
    "    inside_dict = {\n",
    "        'folder_path': os.path.join(path_output, category),\n",
    "        'images': image_dict,\n",
    "    }\n",
    "    filelist_dict[category] = inside_dict\n",
    "\n",
    "\n",
    "# create folders for preprocessed images\n",
    "for val in filelist_dict.values():\n",
    "    folder_name = val['folder_path']\n",
    "    if os.path.exists(folder_name):\n",
    "        shutil.rmtree(folder_name)\n",
    "\n",
    "    os.makedirs(folder_name)\n",
    "    os.makedirs(os.path.join(folder_name, 'input'))\n",
    "    os.makedirs(os.path.join(folder_name, 'output'))\n",
    "\n",
    "\n"
   ],
   "id": "5361433393d7fe33",
   "outputs": [
    {
     "name": "stdout",
     "output_type": "stream",
     "text": [
      "['252.bmp', '227.bmp', '138.bmp', '298.bmp', '577.bmp', '686.bmp', '322.bmp', '533.bmp', '553.bmp', '647.bmp', '548.bmp', '519.bmp', '312.bmp', '272.bmp', '338.bmp', '613.bmp', '511.bmp', '715.bmp', '229.bmp', '711.bmp', '147.bmp', '169.bmp', '163.bmp', '77.bmp', '695.bmp', '672.bmp', '255.bmp', '58.bmp', '305.bmp', '32.bmp', '488.bmp', '277.bmp', '251.bmp', '144.bmp', '563.bmp', '256.bmp', '107.bmp', '565.bmp', '615.bmp', '658.bmp', '327.bmp', '71.bmp', '729.bmp', '640.bmp', '528.bmp', '361.bmp', '235.bmp', '714.bmp', '263.bmp', '698.bmp', '612.bmp', '18.bmp', '366.bmp', '116.bmp', '413.bmp', '198.bmp', '282.bmp', '295.bmp', '284.bmp', '570.bmp', '406.bmp', '662.bmp', '544.bmp', '484.bmp', '302.bmp', '72.bmp', '490.bmp', '465.bmp', '280.bmp', '463.bmp', '482.bmp', '736.bmp', '559.bmp', '427.bmp', '677.bmp', '5.bmp', '442.bmp', '636.bmp', '527.bmp', '250.bmp', '546.bmp', '306.bmp', '693.bmp', '281.bmp', '249.bmp', '260.bmp', '334.bmp', '491.bmp', '1.bmp', '653.bmp', '129.bmp', '593.bmp', '385.bmp', '289.bmp', '700.bmp', '320.bmp', '230.bmp', '381.bmp', '718.bmp', '292.bmp', '709.bmp', '168.bmp', '111.bmp', '254.bmp', '464.bmp', '262.bmp', '400.bmp', '195.bmp', '446.bmp', '420.bmp', '393.bmp', '516.bmp', '47.bmp', '212.bmp', '614.bmp', '93.bmp', '585.bmp', '102.bmp', '55.bmp', '171.bmp', '659.bmp', '610.bmp', '82.bmp', '474.bmp', '299.bmp', '341.bmp', '84.bmp', '468.bmp', '325.bmp', '186.bmp', '28.bmp', '352.bmp', '628.bmp', '319.bmp', '182.bmp', '66.bmp', '191.bmp', '650.bmp', '242.bmp', '728.bmp', '704.bmp', '502.bmp', '481.bmp', '130.bmp', '487.bmp', '158.bmp', '394.bmp', '11.bmp', '206.bmp', '246.bmp', '514.bmp', '596.bmp', '494.bmp', '417.bmp', '19.bmp', '45.bmp', '333.bmp', '654.bmp', '225.bmp', '236.bmp', '518.bmp', '719.bmp', '231.bmp', '652.bmp', '473.bmp', '712.bmp', '584.bmp', '7.bmp', '497.bmp', '401.bmp', '433.bmp', '602.bmp', '13.bmp', '573.bmp', '496.bmp', '271.bmp', '335.bmp', '131.bmp', '667.bmp', '437.bmp', '296.bmp', '608.bmp', '329.bmp', '609.bmp', '634.bmp', '625.bmp', '134.bmp', '137.bmp', '353.bmp', '723.bmp', '397.bmp', '336.bmp', '257.bmp', '412.bmp', '746.bmp', '140.bmp', '444.bmp', '641.bmp', '606.bmp', '429.bmp', '550.bmp', '61.bmp', '240.bmp', '374.bmp', '223.bmp', '568.bmp', '184.bmp', '421.bmp', '23.bmp', '663.bmp', '379.bmp', '670.bmp', '572.bmp', '40.bmp', '680.bmp', '455.bmp', '541.bmp', '208.bmp', '101.bmp', '16.bmp', '539.bmp', '196.bmp', '21.bmp', '279.bmp', '207.bmp', '364.bmp', '452.bmp', '269.bmp', '664.bmp', '267.bmp', '509.bmp', '33.bmp', '620.bmp', '68.bmp', '735.bmp', '424.bmp', '290.bmp', '445.bmp', '462.bmp', '363.bmp', '687.bmp', '438.bmp', '278.bmp', '651.bmp', '70.bmp', '655.bmp', '740.bmp', '308.bmp', '703.bmp', '440.bmp', '624.bmp', '285.bmp', '42.bmp', '187.bmp', '234.bmp', '176.bmp', '576.bmp', '351.bmp', '261.bmp', '15.bmp', '743.bmp', '342.bmp', '404.bmp', '355.bmp', '508.bmp', '4.bmp', '22.bmp', '199.bmp', '67.bmp', '0.bmp', '356.bmp', '530.bmp', '669.bmp', '315.bmp', '74.bmp', '89.bmp', '155.bmp', '382.bmp', '560.bmp', '665.bmp', '683.bmp', '367.bmp', '561.bmp', '17.bmp', '377.bmp', '139.bmp', '90.bmp', '618.bmp', '384.bmp', '100.bmp', '730.bmp', '46.bmp', '51.bmp', '348.bmp', '125.bmp', '678.bmp', '738.bmp', '557.bmp', '12.bmp', '694.bmp', '691.bmp', '499.bmp', '150.bmp', '80.bmp', '646.bmp', '591.bmp', '326.bmp', '92.bmp', '426.bmp', '589.bmp', '108.bmp', '649.bmp', '180.bmp', '63.bmp', '268.bmp', '522.bmp', '477.bmp', '588.bmp', '627.bmp', '190.bmp', '119.bmp', '44.bmp', '121.bmp', '679.bmp', '362.bmp', '542.bmp', '173.bmp', '148.bmp', '411.bmp', '118.bmp', '716.bmp', '372.bmp', '431.bmp', '479.bmp', '579.bmp', '688.bmp', '62.bmp', '386.bmp', '460.bmp', '14.bmp', '143.bmp', '549.bmp', '153.bmp', '157.bmp', '209.bmp', '630.bmp', '27.bmp', '547.bmp', '673.bmp', '349.bmp', '396.bmp', '604.bmp', '478.bmp', '504.bmp', '265.bmp', '586.bmp', '415.bmp', '432.bmp', '633.bmp', '483.bmp', '160.bmp', '414.bmp', '566.bmp', '545.bmp', '623.bmp', '64.bmp', '183.bmp', '151.bmp', '365.bmp', '31.bmp', '124.bmp', '734.bmp', '307.bmp', '69.bmp', '644.bmp', '587.bmp', '666.bmp', '529.bmp', '189.bmp', '35.bmp', '91.bmp', '83.bmp', '696.bmp', '340.bmp', '360.bmp', '567.bmp', '675.bmp', '354.bmp', '731.bmp', '398.bmp', '216.bmp', '10.bmp', '388.bmp', '507.bmp', '493.bmp', '258.bmp', '330.bmp', '112.bmp', '247.bmp', '619.bmp', '506.bmp', '674.bmp', '594.bmp', '434.bmp', '535.bmp', '146.bmp', '402.bmp', '574.bmp', '25.bmp', '458.bmp', '159.bmp', '525.bmp', '337.bmp', '288.bmp', '179.bmp', '416.bmp', '275.bmp', '638.bmp', '515.bmp', '347.bmp', '109.bmp', '635.bmp', '552.bmp', '639.bmp', '447.bmp', '241.bmp', '739.bmp', '75.bmp', '648.bmp', '238.bmp', '313.bmp', '350.bmp', '310.bmp', '419.bmp', '154.bmp', '692.bmp', '558.bmp', '486.bmp', '405.bmp', '721.bmp', '369.bmp', '617.bmp', '136.bmp', '287.bmp', '132.bmp', '85.bmp', '681.bmp', '428.bmp', '513.bmp', '41.bmp', '248.bmp', '291.bmp', '259.bmp', '523.bmp', '99.bmp', '142.bmp', '344.bmp', '309.bmp', '358.bmp', '425.bmp', '556.bmp', '705.bmp', '79.bmp', '611.bmp', '294.bmp', '741.bmp', '441.bmp', '39.bmp', '24.bmp', '149.bmp', '737.bmp', '357.bmp', '103.bmp', '526.bmp', '65.bmp', '657.bmp', '114.bmp', '56.bmp', '270.bmp', '607.bmp', '213.bmp', '95.bmp', '214.bmp', '500.bmp', '145.bmp', '192.bmp', '314.bmp', '505.bmp', '708.bmp', '181.bmp', '6.bmp', '418.bmp', '200.bmp', '747.bmp', '403.bmp', '571.bmp', '346.bmp', '237.bmp', '30.bmp', '232.bmp', '228.bmp', '690.bmp', '467.bmp', '220.bmp', '318.bmp', '702.bmp', '185.bmp', '233.bmp', '375.bmp', '475.bmp', '701.bmp', '540.bmp', '409.bmp', '684.bmp', '733.bmp', '390.bmp', '304.bmp', '725.bmp', '408.bmp', '706.bmp', '174.bmp', '461.bmp', '538.bmp', '599.bmp']\n",
      "['485.bmp', '480.bmp', '166.bmp', '603.bmp', '43.bmp', '126.bmp', '188.bmp', '110.bmp', '661.bmp', '73.bmp', '582.bmp', '470.bmp', '637.bmp', '204.bmp', '643.bmp', '60.bmp', '685.bmp', '581.bmp', '453.bmp', '9.bmp', '244.bmp', '331.bmp', '645.bmp', '631.bmp', '564.bmp', '273.bmp', '141.bmp', '152.bmp', '592.bmp', '219.bmp', '2.bmp', '578.bmp', '324.bmp', '601.bmp', '689.bmp', '115.bmp', '301.bmp', '50.bmp', '162.bmp', '29.bmp', '399.bmp', '699.bmp', '76.bmp', '274.bmp', '536.bmp', '551.bmp', '339.bmp', '605.bmp', '744.bmp', '311.bmp', '97.bmp', '264.bmp', '745.bmp', '113.bmp', '583.bmp', '457.bmp', '727.bmp', '380.bmp', '748.bmp', '373.bmp', '510.bmp', '392.bmp', '435.bmp', '317.bmp', '720.bmp', '595.bmp', '524.bmp', '448.bmp', '443.bmp', '36.bmp', '81.bmp', '501.bmp', '660.bmp', '378.bmp', '122.bmp', '303.bmp', '205.bmp', '96.bmp', '520.bmp', '391.bmp', '135.bmp', '449.bmp', '722.bmp', '456.bmp', '676.bmp', '172.bmp', '521.bmp', '554.bmp', '498.bmp', '276.bmp', '222.bmp', '332.bmp', '53.bmp', '161.bmp', '531.bmp', '450.bmp', '656.bmp', '283.bmp', '177.bmp', '215.bmp', '376.bmp', '57.bmp', '395.bmp', '123.bmp', '707.bmp', '389.bmp', '555.bmp', '503.bmp', '471.bmp', '569.bmp', '133.bmp', '742.bmp']\n",
      "['78.bmp', '622.bmp', '48.bmp', '598.bmp', '345.bmp', '422.bmp', '128.bmp', '590.bmp', '407.bmp', '106.bmp', '175.bmp', '343.bmp', '178.bmp', '323.bmp', '87.bmp', '534.bmp', '52.bmp', '387.bmp', '88.bmp', '164.bmp', '616.bmp', '713.bmp', '472.bmp', '297.bmp', '293.bmp', '94.bmp', '732.bmp', '266.bmp', '697.bmp', '580.bmp', '49.bmp', '170.bmp', '26.bmp', '495.bmp', '368.bmp', '54.bmp', '724.bmp', '286.bmp', '127.bmp', '201.bmp', '165.bmp', '668.bmp', '20.bmp', '370.bmp', '466.bmp', '469.bmp', '217.bmp', '423.bmp', '3.bmp', '167.bmp', '243.bmp', '726.bmp', '194.bmp', '104.bmp', '156.bmp', '59.bmp', '245.bmp', '300.bmp', '562.bmp', '439.bmp', '454.bmp', '537.bmp', '211.bmp', '642.bmp', '543.bmp', '632.bmp', '218.bmp', '193.bmp', '120.bmp', '224.bmp', '682.bmp', '37.bmp', '621.bmp', '517.bmp', '98.bmp', '451.bmp', '626.bmp', '410.bmp', '253.bmp', '321.bmp', '430.bmp', '226.bmp', '710.bmp', '492.bmp', '575.bmp', '459.bmp', '86.bmp', '105.bmp', '489.bmp', '38.bmp', '359.bmp', '34.bmp', '371.bmp', '532.bmp', '316.bmp', '597.bmp', '512.bmp', '239.bmp', '436.bmp', '671.bmp', '383.bmp', '629.bmp', '202.bmp', '210.bmp', '8.bmp', '117.bmp', '717.bmp', '476.bmp', '197.bmp', '600.bmp', '203.bmp', '328.bmp', '221.bmp']\n"
     ]
    }
   ],
   "execution_count": 3
  },
  {
   "metadata": {
    "ExecuteTime": {
     "end_time": "2025-03-21T13:36:37.335522Z",
     "start_time": "2025-03-21T13:35:25.835251Z"
    }
   },
   "cell_type": "code",
   "source": [
    "# PREPROCESSING\n",
    "\n",
    "for val in filelist_dict.values():\n",
    "    for image in val['images'].values():\n",
    "        input_path = image['input']\n",
    "        output_path = image['output']\n",
    "        source_name = image['source']\n",
    "\n",
    "        img = ImageProcess(source_name)\n",
    "        img.resize_image(im_sz, im_resizing_policy, im_resizing_method)\n",
    "        img.save_image(input_path)\n",
    "        # apply transformations\n",
    "\n",
    "        # select random properties of distortion\n",
    "        max_hz = random.uniform(im_max_hz[0], im_max_hz[1])\n",
    "        mu = random.uniform(im_gaussian_mu[0], im_gaussian_mu[1])\n",
    "        sigma = random.uniform(im_gaussian_std[0], im_gaussian_std[1])\n",
    "\n",
    "        hole_amount = random.randint(im_holes_amount[0], im_holes_amount[1])\n",
    "\n",
    "        # first, lowpass filter it\n",
    "        img.dist_lowpass(max_hz)\n",
    "        # then, apply gaussian noise\n",
    "        img.dist_noise_gaussian(mu, sigma)\n",
    "        # finally, add holes\n",
    "        img.dist_blackholes(im_holes_radius[0], im_holes_radius[1], hole_amount)\n",
    "        img.save_image(output_path)\n",
    "\n",
    "\n"
   ],
   "id": "b2ec610c347ea38c",
   "outputs": [],
   "execution_count": 4
  }
 ],
 "metadata": {
  "kernelspec": {
   "display_name": "Python 3",
   "language": "python",
   "name": "python3"
  },
  "language_info": {
   "codemirror_mode": {
    "name": "ipython",
    "version": 2
   },
   "file_extension": ".py",
   "mimetype": "text/x-python",
   "name": "python",
   "nbconvert_exporter": "python",
   "pygments_lexer": "ipython2",
   "version": "2.7.6"
  }
 },
 "nbformat": 4,
 "nbformat_minor": 5
}
