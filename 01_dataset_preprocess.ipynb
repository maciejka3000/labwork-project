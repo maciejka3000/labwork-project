{
 "cells": [
  {
   "cell_type": "code",
   "id": "initial_id",
   "metadata": {
    "collapsed": true,
    "ExecuteTime": {
     "end_time": "2025-05-03T22:58:57.954275Z",
     "start_time": "2025-05-03T22:58:57.952252Z"
    }
   },
   "source": [
    "# imports\n",
    "from src.image_preprocess import ImageProcess\n",
    "import os\n",
    "import glob\n",
    "import yaml\n",
    "import random\n",
    "import shutil\n"
   ],
   "outputs": [],
   "execution_count": 6
  },
  {
   "metadata": {
    "ExecuteTime": {
     "end_time": "2025-05-03T22:58:58.009317Z",
     "start_time": "2025-05-03T22:58:58.005361Z"
    }
   },
   "cell_type": "code",
   "source": [
    "# Get settings from yaml file\n",
    "with open(\"settings.yaml\", 'r') as s:\n",
    "    sets = yaml.safe_load(s)\n",
    "\n",
    "path_input = sets['path_prepreprocessed_db']\n",
    "path_output = sets['path_preprocessed_db']\n",
    "im_sz = sets['img_size']\n",
    "im_resizing_policy = sets['resizing_policy']\n",
    "im_resizing_method = sets['resizing_method']\n",
    "im_max_hz = sets['max_hz']\n",
    "im_gaussian_mu = sets['gaussian_mean']\n",
    "im_gaussian_std = sets['gaussian_std']\n",
    "im_holes_amount = sets['hole_amount']\n",
    "im_holes_radius = sets['hole_radius']\n",
    "\n",
    "save_data_split = sets['data_split']\n"
   ],
   "id": "e356cd1e51d1741",
   "outputs": [],
   "execution_count": 7
  },
  {
   "metadata": {
    "ExecuteTime": {
     "end_time": "2025-05-03T22:58:58.352894Z",
     "start_time": "2025-05-03T22:58:58.053410Z"
    }
   },
   "cell_type": "code",
   "source": [
    "# split images into 3 categories - train, test and val\n",
    "\n",
    "\n",
    "input_images_paths = glob.glob(os.path.join(path_input, '*.*'))\n",
    "im_amount = len(input_images_paths)\n",
    "\n",
    "train_samples_am = int(im_amount * save_data_split[0])\n",
    "test_samples_am = int(im_amount * save_data_split[1])\n",
    "val_samples_am = im_amount - train_samples_am - test_samples_am\n",
    "\n",
    "# get train images\n",
    "train_samples = random.sample(input_images_paths, train_samples_am)\n",
    "_ = [input_images_paths.remove(x) for x in train_samples]\n",
    "# get test images\n",
    "test_samples = random.sample(input_images_paths, test_samples_am)\n",
    "_ = [input_images_paths.remove(x) for x in test_samples]\n",
    "# get val samples\n",
    "val_samples = input_images_paths.copy()\n",
    "\n",
    "images_paths = [train_samples, test_samples, val_samples]\n",
    "images_categories = ['train', 'test', 'val']\n",
    "\n",
    "\n",
    "\n",
    "\n",
    "filelist_dict = dict()\n",
    "for paths, category in zip(images_paths, images_categories):\n",
    "    subfix_image = [os.path.split(path)[-1] for path in paths]\n",
    "    subfix_image = [i.split('.')[0] + '.bmp' for i in subfix_image]\n",
    "\n",
    "    input_path = [os.path.join(path_output, category, 'input', i) for i in subfix_image]\n",
    "    output_path = [os.path.join(path_output, category, 'output', i) for i in subfix_image]\n",
    "\n",
    "    image_dict = dict()\n",
    "    for n in range(len(paths)):\n",
    "        image_dict[n] = {\n",
    "            'source': paths[n],\n",
    "            'output': output_path[n],\n",
    "            'input': input_path[n],\n",
    "        }\n",
    "\n",
    "    inside_dict = {\n",
    "        'folder_path': os.path.join(path_output, category),\n",
    "        'images': image_dict,\n",
    "    }\n",
    "    filelist_dict[category] = inside_dict\n",
    "\n",
    "\n",
    "# create folders for preprocessed images\n",
    "for val in filelist_dict.values():\n",
    "    folder_name = val['folder_path']\n",
    "    if os.path.exists(folder_name):\n",
    "        shutil.rmtree(folder_name)\n",
    "\n",
    "    os.makedirs(folder_name)\n",
    "    os.makedirs(os.path.join(folder_name, 'input'))\n",
    "    os.makedirs(os.path.join(folder_name, 'output'))\n",
    "\n",
    "\n"
   ],
   "id": "5361433393d7fe33",
   "outputs": [],
   "execution_count": 8
  },
  {
   "metadata": {
    "ExecuteTime": {
     "end_time": "2025-05-03T22:58:58.360540Z",
     "start_time": "2025-05-03T22:58:58.359150Z"
    }
   },
   "cell_type": "code",
   "source": [
    "# PREPROCESSING\n",
    "\n",
    "\n",
    "\n"
   ],
   "id": "b2ec610c347ea38c",
   "outputs": [],
   "execution_count": 9
  },
  {
   "metadata": {
    "ExecuteTime": {
     "end_time": "2025-05-03T22:59:17.416327Z",
     "start_time": "2025-05-03T22:58:58.404348Z"
    }
   },
   "cell_type": "code",
   "source": [
    "from multiprocessing import Pool, cpu_count\n",
    "from tqdm import tqdm\n",
    "import random\n",
    "\n",
    "def process_image_task(image):\n",
    "    input_path = image['input']\n",
    "    output_path = image['output']\n",
    "    source_name = image['source']\n",
    "\n",
    "    img = ImageProcess(source_name)\n",
    "    img.resize_image(im_sz, im_resizing_policy, im_resizing_method)\n",
    "    img.save_image(input_path)\n",
    "\n",
    "    # select random properties of distortion\n",
    "    max_hz = random.uniform(im_max_hz[0], im_max_hz[1])\n",
    "    mu = random.uniform(im_gaussian_mu[0], im_gaussian_mu[1])\n",
    "    sigma = random.uniform(im_gaussian_std[0], im_gaussian_std[1])\n",
    "    hole_amount = random.randint(im_holes_amount[0], im_holes_amount[1])\n",
    "\n",
    "    img.dist_lowpass(max_hz)\n",
    "    img.dist_noise_gaussian(mu, sigma)\n",
    "    img.dist_blackholes(im_holes_radius[0], im_holes_radius[1], hole_amount)\n",
    "    img.save_image(output_path)\n",
    "\n",
    "# Flatten all image dicts\n",
    "images_list = [image for val in filelist_dict.values() for image in val['images'].values()]\n",
    "\n",
    "# Run in parallel with tqdm\n",
    "if __name__ == '__main__':\n",
    "    with Pool(cpu_count()) as pool:\n",
    "        list(tqdm(pool.imap_unordered(process_image_task, images_list),\n",
    "                  total=len(images_list),\n",
    "                  desc=\"Preprocessing\",\n",
    "                  unit=\"img\"))\n"
   ],
   "id": "87810efdd237357e",
   "outputs": [
    {
     "name": "stderr",
     "output_type": "stream",
     "text": [
      "Preprocessing: 100%|██████████| 5244/5244 [00:18<00:00, 277.07img/s]\n"
     ]
    }
   ],
   "execution_count": 10
  }
 ],
 "metadata": {
  "kernelspec": {
   "display_name": "Python 3",
   "language": "python",
   "name": "python3"
  },
  "language_info": {
   "codemirror_mode": {
    "name": "ipython",
    "version": 2
   },
   "file_extension": ".py",
   "mimetype": "text/x-python",
   "name": "python",
   "nbconvert_exporter": "python",
   "pygments_lexer": "ipython2",
   "version": "2.7.6"
  }
 },
 "nbformat": 4,
 "nbformat_minor": 5
}
