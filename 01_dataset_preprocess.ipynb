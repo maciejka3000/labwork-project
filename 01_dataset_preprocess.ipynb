{
 "cells": [
  {
   "cell_type": "code",
   "id": "initial_id",
   "metadata": {
    "collapsed": true,
    "ExecuteTime": {
     "end_time": "2025-02-27T17:14:06.862271Z",
     "start_time": "2025-02-27T17:14:06.857486Z"
    }
   },
   "source": [
    "# imports\n",
    "from src.image_preprocess import ImageProcess\n",
    "import os\n",
    "import glob\n",
    "import yaml\n",
    "import random\n",
    "import shutil\n"
   ],
   "outputs": [],
   "execution_count": 5
  },
  {
   "metadata": {
    "ExecuteTime": {
     "end_time": "2025-02-27T17:14:06.880699Z",
     "start_time": "2025-02-27T17:14:06.870247Z"
    }
   },
   "cell_type": "code",
   "source": [
    "# Get settings from yaml file\n",
    "with open(\"settings.yaml\", 'r') as s:\n",
    "    sets = yaml.safe_load(s)\n",
    "\n",
    "path_input = sets['path_prepreprocessed_db']\n",
    "path_output = sets['path_preprocessed_db']\n",
    "im_sz = sets['img_size']\n",
    "im_resizing_policy = sets['resizing_policy']\n",
    "im_resizing_method = sets['resizing_method']\n",
    "im_max_hz = sets['max_hz']\n",
    "im_gaussian_mu = sets['gaussian_mean']\n",
    "im_gaussian_std = sets['gaussian_std']\n",
    "\n",
    "save_data_split = sets['data_split']\n"
   ],
   "id": "e356cd1e51d1741",
   "outputs": [],
   "execution_count": 6
  },
  {
   "metadata": {
    "ExecuteTime": {
     "end_time": "2025-02-27T17:14:06.970351Z",
     "start_time": "2025-02-27T17:14:06.941616Z"
    }
   },
   "cell_type": "code",
   "source": [
    "# split images into 3 categories - train, test and val\n",
    "\n",
    "\n",
    "input_images_paths = glob.glob(os.path.join(path_input, '*.*'))\n",
    "im_amount = len(input_images_paths)\n",
    "\n",
    "train_samples_am = int(im_amount * save_data_split[0])\n",
    "test_samples_am = int(im_amount * save_data_split[1])\n",
    "val_samples_am = im_amount - train_samples_am - test_samples_am\n",
    "\n",
    "# get train images\n",
    "train_samples = random.sample(input_images_paths, train_samples_am)\n",
    "_ = [input_images_paths.remove(x) for x in train_samples]\n",
    "# get test images\n",
    "test_samples = random.sample(input_images_paths, test_samples_am)\n",
    "_ = [input_images_paths.remove(x) for x in test_samples]\n",
    "# get val samples\n",
    "val_samples = input_images_paths.copy()\n",
    "\n",
    "images_paths = [train_samples, test_samples, val_samples]\n",
    "images_categories = ['train', 'test', 'val']\n",
    "\n",
    "\n",
    "\n",
    "\n",
    "filelist_dict = dict()\n",
    "for paths, category in zip(images_paths, images_categories):\n",
    "    subfix_image = [os.path.split(path)[-1] for path in paths]\n",
    "    subfix_image = [i.split('.')[0] + '.bmp' for i in subfix_image]\n",
    "    print(subfix_image)\n",
    "\n",
    "    input_path = [os.path.join(path_output, category, 'input', i) for i in subfix_image]\n",
    "    output_path = [os.path.join(path_output, category, 'output', i) for i in subfix_image]\n",
    "\n",
    "    image_dict = dict()\n",
    "    for n in range(len(paths)):\n",
    "        image_dict[n] = {\n",
    "            'source': paths[n],\n",
    "            'output': output_path[n],\n",
    "            'input': input_path[n],\n",
    "        }\n",
    "\n",
    "    inside_dict = {\n",
    "        'folder_path': os.path.join(path_output, category),\n",
    "        'images': image_dict,\n",
    "    }\n",
    "    filelist_dict[category] = inside_dict\n",
    "\n",
    "\n",
    "# create folders for preprocessed images\n",
    "for val in filelist_dict.values():\n",
    "    folder_name = val['folder_path']\n",
    "    if os.path.exists(folder_name):\n",
    "        shutil.rmtree(folder_name)\n",
    "\n",
    "    os.makedirs(folder_name)\n",
    "    os.makedirs(os.path.join(folder_name, 'input'))\n",
    "    os.makedirs(os.path.join(folder_name, 'output'))\n",
    "\n",
    "\n"
   ],
   "id": "5361433393d7fe33",
   "outputs": [
    {
     "name": "stdout",
     "output_type": "stream",
     "text": [
      "['29.bmp', '1.bmp', '22.bmp', '36.bmp', '19.bmp', '31.bmp', '25.bmp', '38.bmp', '11.bmp', '20.bmp', '14.bmp', '3.bmp', '33.bmp', '28.bmp', '24.bmp', '34.bmp', '12.bmp', '30.bmp', '37.bmp', '35.bmp', '10.bmp', '8.bmp', '18.bmp', '27.bmp']\n",
      "['21.bmp', '23.bmp', '39.bmp', '4.bmp', '17.bmp', '7.bmp', '2.bmp', '26.bmp']\n",
      "['13.bmp', '6.bmp', '16.bmp', '15.bmp', '5.bmp', '9.bmp', '32.bmp', '0.bmp']\n"
     ]
    }
   ],
   "execution_count": 7
  },
  {
   "metadata": {
    "ExecuteTime": {
     "end_time": "2025-02-27T17:14:10.038775Z",
     "start_time": "2025-02-27T17:14:06.992417Z"
    }
   },
   "cell_type": "code",
   "source": [
    "# PREPROCESSING\n",
    "\n",
    "for val in filelist_dict.values():\n",
    "    for image in val['images'].values():\n",
    "        input_path = image['input']\n",
    "        output_path = image['output']\n",
    "        source_name = image['source']\n",
    "\n",
    "        img = ImageProcess(source_name)\n",
    "        img.resize_image(im_sz, im_resizing_policy, im_resizing_method)\n",
    "        img.save_image(input_path)\n",
    "        # apply transformations\n",
    "\n",
    "        # select random properties of distortion\n",
    "        max_hz = random.uniform(im_max_hz[0], im_max_hz[1])\n",
    "        mu = random.uniform(im_gaussian_mu[0], im_gaussian_mu[1])\n",
    "        sigma = random.uniform(im_gaussian_std[0], im_gaussian_std[1])\n",
    "\n",
    "        # first, lowpass filter it\n",
    "        img.dist_lowpass(max_hz)\n",
    "        # then, apply gaussian noise\n",
    "        img.dist_noise_gaussian(mu, sigma)\n",
    "        img.save_image(output_path)\n",
    "\n",
    "\n"
   ],
   "id": "b2ec610c347ea38c",
   "outputs": [],
   "execution_count": 8
  }
 ],
 "metadata": {
  "kernelspec": {
   "display_name": "Python 3",
   "language": "python",
   "name": "python3"
  },
  "language_info": {
   "codemirror_mode": {
    "name": "ipython",
    "version": 2
   },
   "file_extension": ".py",
   "mimetype": "text/x-python",
   "name": "python",
   "nbconvert_exporter": "python",
   "pygments_lexer": "ipython2",
   "version": "2.7.6"
  }
 },
 "nbformat": 4,
 "nbformat_minor": 5
}
