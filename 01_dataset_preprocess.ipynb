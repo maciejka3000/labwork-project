{
 "cells": [
  {
   "cell_type": "code",
   "id": "initial_id",
   "metadata": {
    "collapsed": true,
    "ExecuteTime": {
     "end_time": "2025-04-30T00:47:09.334445Z",
     "start_time": "2025-04-30T00:47:09.052159Z"
    }
   },
   "source": [
    "# imports\n",
    "from src.image_preprocess import ImageProcess\n",
    "import os\n",
    "import glob\n",
    "import yaml\n",
    "import random\n",
    "import shutil\n"
   ],
   "outputs": [],
   "execution_count": 1
  },
  {
   "metadata": {
    "ExecuteTime": {
     "end_time": "2025-04-30T00:47:10.719741Z",
     "start_time": "2025-04-30T00:47:10.712272Z"
    }
   },
   "cell_type": "code",
   "source": [
    "# Get settings from yaml file\n",
    "with open(\"settings.yaml\", 'r') as s:\n",
    "    sets = yaml.safe_load(s)\n",
    "\n",
    "path_input = sets['path_prepreprocessed_db']\n",
    "path_output = sets['path_preprocessed_db']\n",
    "im_sz = sets['img_size']\n",
    "im_resizing_policy = sets['resizing_policy']\n",
    "im_resizing_method = sets['resizing_method']\n",
    "im_max_hz = sets['max_hz']\n",
    "im_gaussian_mu = sets['gaussian_mean']\n",
    "im_gaussian_std = sets['gaussian_std']\n",
    "im_holes_amount = sets['hole_amount']\n",
    "im_holes_radius = sets['hole_radius']\n",
    "\n",
    "save_data_split = sets['data_split']\n"
   ],
   "id": "e356cd1e51d1741",
   "outputs": [],
   "execution_count": 2
  },
  {
   "metadata": {
    "ExecuteTime": {
     "end_time": "2025-04-30T00:47:16.771310Z",
     "start_time": "2025-04-30T00:47:15.914214Z"
    }
   },
   "cell_type": "code",
   "source": [
    "# split images into 3 categories - train, test and val\n",
    "\n",
    "\n",
    "input_images_paths = glob.glob(os.path.join(path_input, '*.*'))\n",
    "im_amount = len(input_images_paths)\n",
    "\n",
    "train_samples_am = int(im_amount * save_data_split[0])\n",
    "test_samples_am = int(im_amount * save_data_split[1])\n",
    "val_samples_am = im_amount - train_samples_am - test_samples_am\n",
    "\n",
    "# get train images\n",
    "train_samples = random.sample(input_images_paths, train_samples_am)\n",
    "_ = [input_images_paths.remove(x) for x in train_samples]\n",
    "# get test images\n",
    "test_samples = random.sample(input_images_paths, test_samples_am)\n",
    "_ = [input_images_paths.remove(x) for x in test_samples]\n",
    "# get val samples\n",
    "val_samples = input_images_paths.copy()\n",
    "\n",
    "images_paths = [train_samples, test_samples, val_samples]\n",
    "images_categories = ['train', 'test', 'val']\n",
    "\n",
    "\n",
    "\n",
    "\n",
    "filelist_dict = dict()\n",
    "for paths, category in zip(images_paths, images_categories):\n",
    "    subfix_image = [os.path.split(path)[-1] for path in paths]\n",
    "    subfix_image = [i.split('.')[0] + '.bmp' for i in subfix_image]\n",
    "\n",
    "    input_path = [os.path.join(path_output, category, 'input', i) for i in subfix_image]\n",
    "    output_path = [os.path.join(path_output, category, 'output', i) for i in subfix_image]\n",
    "\n",
    "    image_dict = dict()\n",
    "    for n in range(len(paths)):\n",
    "        image_dict[n] = {\n",
    "            'source': paths[n],\n",
    "            'output': output_path[n],\n",
    "            'input': input_path[n],\n",
    "        }\n",
    "\n",
    "    inside_dict = {\n",
    "        'folder_path': os.path.join(path_output, category),\n",
    "        'images': image_dict,\n",
    "    }\n",
    "    filelist_dict[category] = inside_dict\n",
    "\n",
    "\n",
    "# create folders for preprocessed images\n",
    "for val in filelist_dict.values():\n",
    "    folder_name = val['folder_path']\n",
    "    if os.path.exists(folder_name):\n",
    "        shutil.rmtree(folder_name)\n",
    "\n",
    "    os.makedirs(folder_name)\n",
    "    os.makedirs(os.path.join(folder_name, 'input'))\n",
    "    os.makedirs(os.path.join(folder_name, 'output'))\n",
    "\n",
    "\n"
   ],
   "id": "5361433393d7fe33",
   "outputs": [],
   "execution_count": 3
  },
  {
   "metadata": {
    "ExecuteTime": {
     "end_time": "2025-04-30T00:44:17.516898Z",
     "start_time": "2025-04-30T00:43:52.361196Z"
    }
   },
   "cell_type": "code",
   "source": [
    "# PREPROCESSING\n",
    "\n",
    "for val in filelist_dict.values():\n",
    "    for image in val['images'].values():\n",
    "        input_path = image['input']\n",
    "        output_path = image['output']\n",
    "        source_name = image['source']\n",
    "\n",
    "        img = ImageProcess(source_name)\n",
    "        img.resize_image(im_sz, im_resizing_policy, im_resizing_method)\n",
    "        img.save_image(input_path)\n",
    "        # apply transformations\n",
    "\n",
    "        # select random properties of distortion\n",
    "        max_hz = random.uniform(im_max_hz[0], im_max_hz[1])\n",
    "        mu = random.uniform(im_gaussian_mu[0], im_gaussian_mu[1])\n",
    "        sigma = random.uniform(im_gaussian_std[0], im_gaussian_std[1])\n",
    "\n",
    "        hole_amount = random.randint(im_holes_amount[0], im_holes_amount[1])\n",
    "\n",
    "        # first, lowpass filter it\n",
    "        img.dist_lowpass(max_hz)\n",
    "        # then, apply gaussian noise\n",
    "        img.dist_noise_gaussian(mu, sigma)\n",
    "        # finally, add holes\n",
    "        img.dist_blackholes(im_holes_radius[0], im_holes_radius[1], hole_amount)\n",
    "        img.save_image(output_path)\n",
    "\n",
    "\n"
   ],
   "id": "b2ec610c347ea38c",
   "outputs": [
    {
     "ename": "KeyboardInterrupt",
     "evalue": "",
     "output_type": "error",
     "traceback": [
      "\u001B[0;31m---------------------------------------------------------------------------\u001B[0m",
      "\u001B[0;31mKeyboardInterrupt\u001B[0m                         Traceback (most recent call last)",
      "Cell \u001B[0;32mIn[4], line 9\u001B[0m\n\u001B[1;32m      6\u001B[0m output_path \u001B[38;5;241m=\u001B[39m image[\u001B[38;5;124m'\u001B[39m\u001B[38;5;124moutput\u001B[39m\u001B[38;5;124m'\u001B[39m]\n\u001B[1;32m      7\u001B[0m source_name \u001B[38;5;241m=\u001B[39m image[\u001B[38;5;124m'\u001B[39m\u001B[38;5;124msource\u001B[39m\u001B[38;5;124m'\u001B[39m]\n\u001B[0;32m----> 9\u001B[0m img \u001B[38;5;241m=\u001B[39m \u001B[43mImageProcess\u001B[49m\u001B[43m(\u001B[49m\u001B[43msource_name\u001B[49m\u001B[43m)\u001B[49m\n\u001B[1;32m     10\u001B[0m img\u001B[38;5;241m.\u001B[39mresize_image(im_sz, im_resizing_policy, im_resizing_method)\n\u001B[1;32m     11\u001B[0m img\u001B[38;5;241m.\u001B[39msave_image(input_path)\n",
      "File \u001B[0;32m~/Desktop/school/S8/labwork-project/src/image_preprocess.py:21\u001B[0m, in \u001B[0;36mImageProcess.__init__\u001B[0;34m(self, path)\u001B[0m\n\u001B[1;32m     19\u001B[0m \u001B[38;5;28;01mdef\u001B[39;00m\u001B[38;5;250m \u001B[39m\u001B[38;5;21m__init__\u001B[39m(\u001B[38;5;28mself\u001B[39m, path):\n\u001B[1;32m     20\u001B[0m     \u001B[38;5;28mself\u001B[39m\u001B[38;5;241m.\u001B[39mpath \u001B[38;5;241m=\u001B[39m path\n\u001B[0;32m---> 21\u001B[0m     \u001B[38;5;28mself\u001B[39m\u001B[38;5;241m.\u001B[39mimage \u001B[38;5;241m=\u001B[39m \u001B[43mcv2\u001B[49m\u001B[38;5;241;43m.\u001B[39;49m\u001B[43mimread\u001B[49m\u001B[43m(\u001B[49m\u001B[38;5;28;43mself\u001B[39;49m\u001B[38;5;241;43m.\u001B[39;49m\u001B[43mpath\u001B[49m\u001B[43m)\u001B[49m\n\u001B[1;32m     22\u001B[0m     \u001B[38;5;28mself\u001B[39m\u001B[38;5;241m.\u001B[39moriginal_image \u001B[38;5;241m=\u001B[39m \u001B[38;5;28mself\u001B[39m\u001B[38;5;241m.\u001B[39mimage\u001B[38;5;241m.\u001B[39mcopy()\n",
      "\u001B[0;31mKeyboardInterrupt\u001B[0m: "
     ]
    }
   ],
   "execution_count": 4
  },
  {
   "metadata": {
    "ExecuteTime": {
     "end_time": "2025-04-30T00:48:51.664132Z",
     "start_time": "2025-04-30T00:47:22.371922Z"
    }
   },
   "cell_type": "code",
   "source": [
    "from multiprocessing import Pool, cpu_count\n",
    "from tqdm import tqdm\n",
    "import random\n",
    "\n",
    "def process_image_task(image):\n",
    "    input_path = image['input']\n",
    "    output_path = image['output']\n",
    "    source_name = image['source']\n",
    "\n",
    "    img = ImageProcess(source_name)\n",
    "    img.resize_image(im_sz, im_resizing_policy, im_resizing_method)\n",
    "    img.save_image(input_path)\n",
    "\n",
    "    # select random properties of distortion\n",
    "    max_hz = random.uniform(im_max_hz[0], im_max_hz[1])\n",
    "    mu = random.uniform(im_gaussian_mu[0], im_gaussian_mu[1])\n",
    "    sigma = random.uniform(im_gaussian_std[0], im_gaussian_std[1])\n",
    "    hole_amount = random.randint(im_holes_amount[0], im_holes_amount[1])\n",
    "\n",
    "    img.dist_lowpass(max_hz)\n",
    "    img.dist_noise_gaussian(mu, sigma)\n",
    "    img.dist_blackholes(im_holes_radius[0], im_holes_radius[1], hole_amount)\n",
    "    img.save_image(output_path)\n",
    "\n",
    "# Flatten all image dicts\n",
    "images_list = [image for val in filelist_dict.values() for image in val['images'].values()]\n",
    "\n",
    "# Run in parallel with tqdm\n",
    "if __name__ == '__main__':\n",
    "    with Pool(cpu_count()) as pool:\n",
    "        list(tqdm(pool.imap_unordered(process_image_task, images_list),\n",
    "                  total=len(images_list),\n",
    "                  desc=\"Preprocessing\",\n",
    "                  unit=\"img\"))\n"
   ],
   "id": "87810efdd237357e",
   "outputs": [
    {
     "name": "stderr",
     "output_type": "stream",
     "text": [
      "Preprocessing: 100%|██████████| 7286/7286 [01:29<00:00, 81.72img/s]\n"
     ]
    }
   ],
   "execution_count": 4
  }
 ],
 "metadata": {
  "kernelspec": {
   "display_name": "Python 3",
   "language": "python",
   "name": "python3"
  },
  "language_info": {
   "codemirror_mode": {
    "name": "ipython",
    "version": 2
   },
   "file_extension": ".py",
   "mimetype": "text/x-python",
   "name": "python",
   "nbconvert_exporter": "python",
   "pygments_lexer": "ipython2",
   "version": "2.7.6"
  }
 },
 "nbformat": 4,
 "nbformat_minor": 5
}
