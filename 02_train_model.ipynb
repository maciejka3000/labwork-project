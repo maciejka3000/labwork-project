{
 "cells": [
  {
   "cell_type": "code",
   "id": "initial_id",
   "metadata": {
    "collapsed": true,
    "ExecuteTime": {
     "end_time": "2025-04-02T22:50:59.581877Z",
     "start_time": "2025-04-02T22:50:59.578447Z"
    }
   },
   "source": [
    "# Import all we need\n",
    "\n",
    "import keras\n",
    "import tensorflow as tf\n",
    "from keras import layers\n",
    "#from keras.datasets import mnist, fashion_mnist\n",
    "import numpy as np\n",
    "from ipywidgets import interact\n",
    "from keras import backend as K\n",
    "import seaborn as sns\n",
    "import matplotlib.pyplot as plt\n",
    "import os\n",
    "import glob\n",
    "from PIL import Image\n",
    "from tensorflow.python.layers.convolutional import conv2d\n",
    "\n",
    "print ('import completed')"
   ],
   "outputs": [
    {
     "name": "stdout",
     "output_type": "stream",
     "text": [
      "import completed\n"
     ]
    }
   ],
   "execution_count": 13
  },
  {
   "metadata": {
    "ExecuteTime": {
     "end_time": "2025-04-02T22:50:59.681347Z",
     "start_time": "2025-04-02T22:50:59.594891Z"
    }
   },
   "cell_type": "code",
   "source": [
    "batch_size = 128\n",
    "img_wid, img_hei = 256, 256\n",
    "global a\n",
    "\n",
    "def make_paths(dir_in):\n",
    "    path_input = os.path.join(dir_in, 'input')\n",
    "    path_output = os.path.join(dir_in, 'output')\n",
    "    return path_input, path_output\n",
    "\n",
    "def create_dataset(path):\n",
    "    imgs_in, imgs_out = make_paths(path)\n",
    "    img_in_paths = sorted(glob.glob(os.path.join(imgs_in, '*.bmp')))\n",
    "    img_out_paths = sorted(glob.glob(os.path.join(imgs_out, '*.bmp')))\n",
    "\n",
    "    dataset = tf.data.Dataset.from_tensor_slices((img_in_paths, img_out_paths))\n",
    "    dataset = dataset.map(lambda a, b: load_pair(a, b), num_parallel_calls=tf.data.AUTOTUNE)\n",
    "    dataset = dataset.batch(batch_size).shuffle(100).prefetch(tf.data.AUTOTUNE)\n",
    "    return dataset\n",
    "\n",
    "def load_pair(input_path, output_path):\n",
    "    input_image = load_image(input_path)\n",
    "    output_image = load_image(output_path)\n",
    "    return input_image, output_image\n",
    "\n",
    "def load_image(path):\n",
    "\n",
    "    img = tf.io.read_file(path)\n",
    "    global a\n",
    "    a = path\n",
    "    img = tf.image.decode_bmp(img, channels=3)\n",
    "    # resizing not necessary\n",
    "    img = tf.cast(img, tf.float32) / 255.0\n",
    "    return img\n",
    "\n",
    "\n",
    "train_dir = '/home/maciejka/Desktop/school/S8/labwork-project/db/dataset_preprocessed/train'\n",
    "val_dir = '/home/maciejka/Desktop/school/S8/labwork-project/db/dataset_preprocessed/val'\n",
    "test_dir = '/home/maciejka/Desktop/school/S8/labwork-project/db/dataset_preprocessed/test'\n",
    "\n",
    "train_ds = create_dataset(train_dir)\n",
    "val_ds = create_dataset(val_dir)\n",
    "test_ds = create_dataset(test_dir)\n",
    "i = 0\n",
    "#for x in train_ds.take(2):\n",
    "#    fig, ax = plt.subplots(1, 2)\n",
    "#    ax[0].imshow(x[0])\n",
    "#    ax[1].imshow(x[1])\n",
    "#    ax[1].axis('off')\n",
    "#    ax[0].axis('off')\n",
    "\n"
   ],
   "id": "823bbe4c5f2a4921",
   "outputs": [],
   "execution_count": 14
  },
  {
   "metadata": {
    "ExecuteTime": {
     "end_time": "2025-04-03T08:45:46.395220Z",
     "start_time": "2025-04-03T08:45:45.829158Z"
    }
   },
   "cell_type": "code",
   "source": [
    "# MOdel\n",
    "\n",
    "original_dim = img_hei * img_wid\n",
    "latent_dim = 256\n",
    "\n",
    "lr_sz = [16, 32, 64]\n",
    "\n",
    "def encoder():\n",
    "    input_img = keras.Input(shape=(img_hei, img_wid, 3))\n",
    "    # Encoder\n",
    "    lrs = layers.Conv2D(lr_sz[0], (3, 3), strides = 2, padding='same')(input_img)\n",
    "    lrs = layers.BatchNormalization()(lrs)\n",
    "    lrs = layers.LeakyReLU()(lrs)\n",
    "\n",
    "    lrs = layers.Conv2D(lr_sz[1], (3, 3), strides = 2, padding='same')(lrs)\n",
    "    lrs = layers.BatchNormalization()(lrs)\n",
    "    lrs = layers.LeakyReLU()(lrs)\n",
    "\n",
    "    lrs = layers.Conv2D(lr_sz[2], (3, 3), strides = 2, padding='same')(lrs)\n",
    "    lrs = layers.BatchNormalization()(lrs)\n",
    "    lrs = layers.LeakyReLU()(lrs)\n",
    "\n",
    "    # flattening to latent space\n",
    "    lrs = layers.Reshape([-1])(lrs)\n",
    "    mu = layers.Dense(latent_dim, name=\"mu\")(lrs)\n",
    "    sigma = layers.Dense(latent_dim, name=\"sigma\")(lrs)\n",
    "\n",
    "    def sampling(args):\n",
    "        mu, sigma = args\n",
    "        epsilon = tf.random.normal(shape=(tf.shape(mu)[0], latent_dim))\n",
    "        return mu + tf.exp(sigma / 2) * epsilon\n",
    "\n",
    "    z = layers.Lambda(sampling, name=\"z\", output_shape=(latent_dim,))([mu, sigma])\n",
    "\n",
    "    return keras.Model(input_img, [mu, sigma, z], name=\"encoder\")\n",
    "\n",
    "def decoder():\n",
    "    latent_input = layers.Input(shape=(latent_dim,))\n",
    "    lrs = layers.Dense(16*16*256)(latent_input)\n",
    "    lrs = layers.Reshape((16, 16, 256))(lrs)\n",
    "\n",
    "    lrs = layers.Conv2DTranspose(lr_sz[2], (3, 3), strides = 2, padding='same')(lrs)\n",
    "    lrs = layers.BatchNormalization()(lrs)\n",
    "    lrs = layers.LeakyReLU()(lrs)\n",
    "\n",
    "    lrs = layers.Conv2DTranspose(lr_sz[1], (3, 3), strides = 2, padding='same')(lrs)\n",
    "    lrs = layers.BatchNormalization()(lrs)\n",
    "    lrs = layers.LeakyReLU()(lrs)\n",
    "\n",
    "    lrs = layers.Conv2DTranspose(lr_sz[0], (3, 3), strides = 2, padding='same')(lrs)\n",
    "    lrs = layers.BatchNormalization()(lrs)\n",
    "    lrs = layers.LeakyReLU()(lrs)\n",
    "\n",
    "    output = layers.Conv2DTranspose(3, (3, 3), strides = 2, padding='same', activation='sigmoid')(lrs)\n",
    "\n",
    "    return keras.Model(latent_input, output, name=\"decoder\")\n",
    "\n",
    "# build model\n",
    "\n",
    "encoder = encoder()\n",
    "encoder.summary()\n",
    "decoder = decoder()\n",
    "\n",
    "get_in_there = layers.Input(shape=(img_wid, img_hei, 3))\n",
    "mu, sigma, z = encoder(get_in_there)\n",
    "get_out_from_here = decoder(z)\n",
    "\n",
    "vae = keras.Model(get_in_there, get_out_from_here, name=\"vae\")\n",
    "\n",
    "\n",
    "optimizer = keras.optimizers.Adam(\n",
    "    learning_rate=0.002\n",
    ")\n",
    "@tf.function\n",
    "def loss(y_true, y_pred):\n",
    "    mse_loss = keras.losses.MeanSquaredError()\n",
    "\n",
    "    y_true_flattened = tf.reshape(y_true, [-1])\n",
    "    y_pred_flattened = tf.reshape(y_pred, [-1])\n",
    "\n",
    "    recon_loss = mse_loss(y_true_flattened, y_pred_flattened)\n",
    "\n",
    "    recon_loss *= img_wid * img_hei * 3\n",
    "    kl_loss = -.5 * tf.reduce_sum(1 + sigma - tf.square(mu) - tf.exp(sigma), axis=-1)\n",
    "    total_loss = tf.reduce_mean(recon_loss + kl_loss)\n",
    "    return total_loss\n",
    "\n",
    "\n",
    "vae.compile(optimizer='adam', loss='mse')"
   ],
   "id": "85f98309648ea27a",
   "outputs": [
    {
     "data": {
      "text/plain": [
       "\u001B[1mModel: \"encoder\"\u001B[0m\n"
      ],
      "text/html": [
       "<pre style=\"white-space:pre;overflow-x:auto;line-height:normal;font-family:Menlo,'DejaVu Sans Mono',consolas,'Courier New',monospace\"><span style=\"font-weight: bold\">Model: \"encoder\"</span>\n",
       "</pre>\n"
      ]
     },
     "metadata": {},
     "output_type": "display_data"
    },
    {
     "data": {
      "text/plain": [
       "┏━━━━━━━━━━━━━━━━━━━━━┳━━━━━━━━━━━━━━━━━━━┳━━━━━━━━━━━━┳━━━━━━━━━━━━━━━━━━━┓\n",
       "┃\u001B[1m \u001B[0m\u001B[1mLayer (type)       \u001B[0m\u001B[1m \u001B[0m┃\u001B[1m \u001B[0m\u001B[1mOutput Shape     \u001B[0m\u001B[1m \u001B[0m┃\u001B[1m \u001B[0m\u001B[1m   Param #\u001B[0m\u001B[1m \u001B[0m┃\u001B[1m \u001B[0m\u001B[1mConnected to     \u001B[0m\u001B[1m \u001B[0m┃\n",
       "┡━━━━━━━━━━━━━━━━━━━━━╇━━━━━━━━━━━━━━━━━━━╇━━━━━━━━━━━━╇━━━━━━━━━━━━━━━━━━━┩\n",
       "│ input_layer_9       │ (\u001B[38;5;45mNone\u001B[0m, \u001B[38;5;34m256\u001B[0m, \u001B[38;5;34m256\u001B[0m,  │          \u001B[38;5;34m0\u001B[0m │ -                 │\n",
       "│ (\u001B[38;5;33mInputLayer\u001B[0m)        │ \u001B[38;5;34m3\u001B[0m)                │            │                   │\n",
       "├─────────────────────┼───────────────────┼────────────┼───────────────────┤\n",
       "│ conv2d_9 (\u001B[38;5;33mConv2D\u001B[0m)   │ (\u001B[38;5;45mNone\u001B[0m, \u001B[38;5;34m128\u001B[0m, \u001B[38;5;34m128\u001B[0m,  │        \u001B[38;5;34m448\u001B[0m │ input_layer_9[\u001B[38;5;34m0\u001B[0m]… │\n",
       "│                     │ \u001B[38;5;34m16\u001B[0m)               │            │                   │\n",
       "├─────────────────────┼───────────────────┼────────────┼───────────────────┤\n",
       "│ batch_normalizatio… │ (\u001B[38;5;45mNone\u001B[0m, \u001B[38;5;34m128\u001B[0m, \u001B[38;5;34m128\u001B[0m,  │         \u001B[38;5;34m64\u001B[0m │ conv2d_9[\u001B[38;5;34m0\u001B[0m][\u001B[38;5;34m0\u001B[0m]    │\n",
       "│ (\u001B[38;5;33mBatchNormalizatio…\u001B[0m │ \u001B[38;5;34m16\u001B[0m)               │            │                   │\n",
       "├─────────────────────┼───────────────────┼────────────┼───────────────────┤\n",
       "│ leaky_re_lu_18      │ (\u001B[38;5;45mNone\u001B[0m, \u001B[38;5;34m128\u001B[0m, \u001B[38;5;34m128\u001B[0m,  │          \u001B[38;5;34m0\u001B[0m │ batch_normalizat… │\n",
       "│ (\u001B[38;5;33mLeakyReLU\u001B[0m)         │ \u001B[38;5;34m16\u001B[0m)               │            │                   │\n",
       "├─────────────────────┼───────────────────┼────────────┼───────────────────┤\n",
       "│ conv2d_10 (\u001B[38;5;33mConv2D\u001B[0m)  │ (\u001B[38;5;45mNone\u001B[0m, \u001B[38;5;34m64\u001B[0m, \u001B[38;5;34m64\u001B[0m,    │      \u001B[38;5;34m4,640\u001B[0m │ leaky_re_lu_18[\u001B[38;5;34m0\u001B[0m… │\n",
       "│                     │ \u001B[38;5;34m32\u001B[0m)               │            │                   │\n",
       "├─────────────────────┼───────────────────┼────────────┼───────────────────┤\n",
       "│ batch_normalizatio… │ (\u001B[38;5;45mNone\u001B[0m, \u001B[38;5;34m64\u001B[0m, \u001B[38;5;34m64\u001B[0m,    │        \u001B[38;5;34m128\u001B[0m │ conv2d_10[\u001B[38;5;34m0\u001B[0m][\u001B[38;5;34m0\u001B[0m]   │\n",
       "│ (\u001B[38;5;33mBatchNormalizatio…\u001B[0m │ \u001B[38;5;34m32\u001B[0m)               │            │                   │\n",
       "├─────────────────────┼───────────────────┼────────────┼───────────────────┤\n",
       "│ leaky_re_lu_19      │ (\u001B[38;5;45mNone\u001B[0m, \u001B[38;5;34m64\u001B[0m, \u001B[38;5;34m64\u001B[0m,    │          \u001B[38;5;34m0\u001B[0m │ batch_normalizat… │\n",
       "│ (\u001B[38;5;33mLeakyReLU\u001B[0m)         │ \u001B[38;5;34m32\u001B[0m)               │            │                   │\n",
       "├─────────────────────┼───────────────────┼────────────┼───────────────────┤\n",
       "│ conv2d_11 (\u001B[38;5;33mConv2D\u001B[0m)  │ (\u001B[38;5;45mNone\u001B[0m, \u001B[38;5;34m32\u001B[0m, \u001B[38;5;34m32\u001B[0m,    │     \u001B[38;5;34m18,496\u001B[0m │ leaky_re_lu_19[\u001B[38;5;34m0\u001B[0m… │\n",
       "│                     │ \u001B[38;5;34m64\u001B[0m)               │            │                   │\n",
       "├─────────────────────┼───────────────────┼────────────┼───────────────────┤\n",
       "│ batch_normalizatio… │ (\u001B[38;5;45mNone\u001B[0m, \u001B[38;5;34m32\u001B[0m, \u001B[38;5;34m32\u001B[0m,    │        \u001B[38;5;34m256\u001B[0m │ conv2d_11[\u001B[38;5;34m0\u001B[0m][\u001B[38;5;34m0\u001B[0m]   │\n",
       "│ (\u001B[38;5;33mBatchNormalizatio…\u001B[0m │ \u001B[38;5;34m64\u001B[0m)               │            │                   │\n",
       "├─────────────────────┼───────────────────┼────────────┼───────────────────┤\n",
       "│ leaky_re_lu_20      │ (\u001B[38;5;45mNone\u001B[0m, \u001B[38;5;34m32\u001B[0m, \u001B[38;5;34m32\u001B[0m,    │          \u001B[38;5;34m0\u001B[0m │ batch_normalizat… │\n",
       "│ (\u001B[38;5;33mLeakyReLU\u001B[0m)         │ \u001B[38;5;34m64\u001B[0m)               │            │                   │\n",
       "├─────────────────────┼───────────────────┼────────────┼───────────────────┤\n",
       "│ reshape_6 (\u001B[38;5;33mReshape\u001B[0m) │ (\u001B[38;5;45mNone\u001B[0m, \u001B[38;5;34m65536\u001B[0m)     │          \u001B[38;5;34m0\u001B[0m │ leaky_re_lu_20[\u001B[38;5;34m0\u001B[0m… │\n",
       "├─────────────────────┼───────────────────┼────────────┼───────────────────┤\n",
       "│ mu (\u001B[38;5;33mDense\u001B[0m)          │ (\u001B[38;5;45mNone\u001B[0m, \u001B[38;5;34m256\u001B[0m)       │ \u001B[38;5;34m16,777,472\u001B[0m │ reshape_6[\u001B[38;5;34m0\u001B[0m][\u001B[38;5;34m0\u001B[0m]   │\n",
       "├─────────────────────┼───────────────────┼────────────┼───────────────────┤\n",
       "│ sigma (\u001B[38;5;33mDense\u001B[0m)       │ (\u001B[38;5;45mNone\u001B[0m, \u001B[38;5;34m256\u001B[0m)       │ \u001B[38;5;34m16,777,472\u001B[0m │ reshape_6[\u001B[38;5;34m0\u001B[0m][\u001B[38;5;34m0\u001B[0m]   │\n",
       "├─────────────────────┼───────────────────┼────────────┼───────────────────┤\n",
       "│ z (\u001B[38;5;33mLambda\u001B[0m)          │ (\u001B[38;5;45mNone\u001B[0m, \u001B[38;5;34m256\u001B[0m)       │          \u001B[38;5;34m0\u001B[0m │ mu[\u001B[38;5;34m0\u001B[0m][\u001B[38;5;34m0\u001B[0m],         │\n",
       "│                     │                   │            │ sigma[\u001B[38;5;34m0\u001B[0m][\u001B[38;5;34m0\u001B[0m]       │\n",
       "└─────────────────────┴───────────────────┴────────────┴───────────────────┘\n"
      ],
      "text/html": [
       "<pre style=\"white-space:pre;overflow-x:auto;line-height:normal;font-family:Menlo,'DejaVu Sans Mono',consolas,'Courier New',monospace\">┏━━━━━━━━━━━━━━━━━━━━━┳━━━━━━━━━━━━━━━━━━━┳━━━━━━━━━━━━┳━━━━━━━━━━━━━━━━━━━┓\n",
       "┃<span style=\"font-weight: bold\"> Layer (type)        </span>┃<span style=\"font-weight: bold\"> Output Shape      </span>┃<span style=\"font-weight: bold\">    Param # </span>┃<span style=\"font-weight: bold\"> Connected to      </span>┃\n",
       "┡━━━━━━━━━━━━━━━━━━━━━╇━━━━━━━━━━━━━━━━━━━╇━━━━━━━━━━━━╇━━━━━━━━━━━━━━━━━━━┩\n",
       "│ input_layer_9       │ (<span style=\"color: #00d7ff; text-decoration-color: #00d7ff\">None</span>, <span style=\"color: #00af00; text-decoration-color: #00af00\">256</span>, <span style=\"color: #00af00; text-decoration-color: #00af00\">256</span>,  │          <span style=\"color: #00af00; text-decoration-color: #00af00\">0</span> │ -                 │\n",
       "│ (<span style=\"color: #0087ff; text-decoration-color: #0087ff\">InputLayer</span>)        │ <span style=\"color: #00af00; text-decoration-color: #00af00\">3</span>)                │            │                   │\n",
       "├─────────────────────┼───────────────────┼────────────┼───────────────────┤\n",
       "│ conv2d_9 (<span style=\"color: #0087ff; text-decoration-color: #0087ff\">Conv2D</span>)   │ (<span style=\"color: #00d7ff; text-decoration-color: #00d7ff\">None</span>, <span style=\"color: #00af00; text-decoration-color: #00af00\">128</span>, <span style=\"color: #00af00; text-decoration-color: #00af00\">128</span>,  │        <span style=\"color: #00af00; text-decoration-color: #00af00\">448</span> │ input_layer_9[<span style=\"color: #00af00; text-decoration-color: #00af00\">0</span>]… │\n",
       "│                     │ <span style=\"color: #00af00; text-decoration-color: #00af00\">16</span>)               │            │                   │\n",
       "├─────────────────────┼───────────────────┼────────────┼───────────────────┤\n",
       "│ batch_normalizatio… │ (<span style=\"color: #00d7ff; text-decoration-color: #00d7ff\">None</span>, <span style=\"color: #00af00; text-decoration-color: #00af00\">128</span>, <span style=\"color: #00af00; text-decoration-color: #00af00\">128</span>,  │         <span style=\"color: #00af00; text-decoration-color: #00af00\">64</span> │ conv2d_9[<span style=\"color: #00af00; text-decoration-color: #00af00\">0</span>][<span style=\"color: #00af00; text-decoration-color: #00af00\">0</span>]    │\n",
       "│ (<span style=\"color: #0087ff; text-decoration-color: #0087ff\">BatchNormalizatio…</span> │ <span style=\"color: #00af00; text-decoration-color: #00af00\">16</span>)               │            │                   │\n",
       "├─────────────────────┼───────────────────┼────────────┼───────────────────┤\n",
       "│ leaky_re_lu_18      │ (<span style=\"color: #00d7ff; text-decoration-color: #00d7ff\">None</span>, <span style=\"color: #00af00; text-decoration-color: #00af00\">128</span>, <span style=\"color: #00af00; text-decoration-color: #00af00\">128</span>,  │          <span style=\"color: #00af00; text-decoration-color: #00af00\">0</span> │ batch_normalizat… │\n",
       "│ (<span style=\"color: #0087ff; text-decoration-color: #0087ff\">LeakyReLU</span>)         │ <span style=\"color: #00af00; text-decoration-color: #00af00\">16</span>)               │            │                   │\n",
       "├─────────────────────┼───────────────────┼────────────┼───────────────────┤\n",
       "│ conv2d_10 (<span style=\"color: #0087ff; text-decoration-color: #0087ff\">Conv2D</span>)  │ (<span style=\"color: #00d7ff; text-decoration-color: #00d7ff\">None</span>, <span style=\"color: #00af00; text-decoration-color: #00af00\">64</span>, <span style=\"color: #00af00; text-decoration-color: #00af00\">64</span>,    │      <span style=\"color: #00af00; text-decoration-color: #00af00\">4,640</span> │ leaky_re_lu_18[<span style=\"color: #00af00; text-decoration-color: #00af00\">0</span>… │\n",
       "│                     │ <span style=\"color: #00af00; text-decoration-color: #00af00\">32</span>)               │            │                   │\n",
       "├─────────────────────┼───────────────────┼────────────┼───────────────────┤\n",
       "│ batch_normalizatio… │ (<span style=\"color: #00d7ff; text-decoration-color: #00d7ff\">None</span>, <span style=\"color: #00af00; text-decoration-color: #00af00\">64</span>, <span style=\"color: #00af00; text-decoration-color: #00af00\">64</span>,    │        <span style=\"color: #00af00; text-decoration-color: #00af00\">128</span> │ conv2d_10[<span style=\"color: #00af00; text-decoration-color: #00af00\">0</span>][<span style=\"color: #00af00; text-decoration-color: #00af00\">0</span>]   │\n",
       "│ (<span style=\"color: #0087ff; text-decoration-color: #0087ff\">BatchNormalizatio…</span> │ <span style=\"color: #00af00; text-decoration-color: #00af00\">32</span>)               │            │                   │\n",
       "├─────────────────────┼───────────────────┼────────────┼───────────────────┤\n",
       "│ leaky_re_lu_19      │ (<span style=\"color: #00d7ff; text-decoration-color: #00d7ff\">None</span>, <span style=\"color: #00af00; text-decoration-color: #00af00\">64</span>, <span style=\"color: #00af00; text-decoration-color: #00af00\">64</span>,    │          <span style=\"color: #00af00; text-decoration-color: #00af00\">0</span> │ batch_normalizat… │\n",
       "│ (<span style=\"color: #0087ff; text-decoration-color: #0087ff\">LeakyReLU</span>)         │ <span style=\"color: #00af00; text-decoration-color: #00af00\">32</span>)               │            │                   │\n",
       "├─────────────────────┼───────────────────┼────────────┼───────────────────┤\n",
       "│ conv2d_11 (<span style=\"color: #0087ff; text-decoration-color: #0087ff\">Conv2D</span>)  │ (<span style=\"color: #00d7ff; text-decoration-color: #00d7ff\">None</span>, <span style=\"color: #00af00; text-decoration-color: #00af00\">32</span>, <span style=\"color: #00af00; text-decoration-color: #00af00\">32</span>,    │     <span style=\"color: #00af00; text-decoration-color: #00af00\">18,496</span> │ leaky_re_lu_19[<span style=\"color: #00af00; text-decoration-color: #00af00\">0</span>… │\n",
       "│                     │ <span style=\"color: #00af00; text-decoration-color: #00af00\">64</span>)               │            │                   │\n",
       "├─────────────────────┼───────────────────┼────────────┼───────────────────┤\n",
       "│ batch_normalizatio… │ (<span style=\"color: #00d7ff; text-decoration-color: #00d7ff\">None</span>, <span style=\"color: #00af00; text-decoration-color: #00af00\">32</span>, <span style=\"color: #00af00; text-decoration-color: #00af00\">32</span>,    │        <span style=\"color: #00af00; text-decoration-color: #00af00\">256</span> │ conv2d_11[<span style=\"color: #00af00; text-decoration-color: #00af00\">0</span>][<span style=\"color: #00af00; text-decoration-color: #00af00\">0</span>]   │\n",
       "│ (<span style=\"color: #0087ff; text-decoration-color: #0087ff\">BatchNormalizatio…</span> │ <span style=\"color: #00af00; text-decoration-color: #00af00\">64</span>)               │            │                   │\n",
       "├─────────────────────┼───────────────────┼────────────┼───────────────────┤\n",
       "│ leaky_re_lu_20      │ (<span style=\"color: #00d7ff; text-decoration-color: #00d7ff\">None</span>, <span style=\"color: #00af00; text-decoration-color: #00af00\">32</span>, <span style=\"color: #00af00; text-decoration-color: #00af00\">32</span>,    │          <span style=\"color: #00af00; text-decoration-color: #00af00\">0</span> │ batch_normalizat… │\n",
       "│ (<span style=\"color: #0087ff; text-decoration-color: #0087ff\">LeakyReLU</span>)         │ <span style=\"color: #00af00; text-decoration-color: #00af00\">64</span>)               │            │                   │\n",
       "├─────────────────────┼───────────────────┼────────────┼───────────────────┤\n",
       "│ reshape_6 (<span style=\"color: #0087ff; text-decoration-color: #0087ff\">Reshape</span>) │ (<span style=\"color: #00d7ff; text-decoration-color: #00d7ff\">None</span>, <span style=\"color: #00af00; text-decoration-color: #00af00\">65536</span>)     │          <span style=\"color: #00af00; text-decoration-color: #00af00\">0</span> │ leaky_re_lu_20[<span style=\"color: #00af00; text-decoration-color: #00af00\">0</span>… │\n",
       "├─────────────────────┼───────────────────┼────────────┼───────────────────┤\n",
       "│ mu (<span style=\"color: #0087ff; text-decoration-color: #0087ff\">Dense</span>)          │ (<span style=\"color: #00d7ff; text-decoration-color: #00d7ff\">None</span>, <span style=\"color: #00af00; text-decoration-color: #00af00\">256</span>)       │ <span style=\"color: #00af00; text-decoration-color: #00af00\">16,777,472</span> │ reshape_6[<span style=\"color: #00af00; text-decoration-color: #00af00\">0</span>][<span style=\"color: #00af00; text-decoration-color: #00af00\">0</span>]   │\n",
       "├─────────────────────┼───────────────────┼────────────┼───────────────────┤\n",
       "│ sigma (<span style=\"color: #0087ff; text-decoration-color: #0087ff\">Dense</span>)       │ (<span style=\"color: #00d7ff; text-decoration-color: #00d7ff\">None</span>, <span style=\"color: #00af00; text-decoration-color: #00af00\">256</span>)       │ <span style=\"color: #00af00; text-decoration-color: #00af00\">16,777,472</span> │ reshape_6[<span style=\"color: #00af00; text-decoration-color: #00af00\">0</span>][<span style=\"color: #00af00; text-decoration-color: #00af00\">0</span>]   │\n",
       "├─────────────────────┼───────────────────┼────────────┼───────────────────┤\n",
       "│ z (<span style=\"color: #0087ff; text-decoration-color: #0087ff\">Lambda</span>)          │ (<span style=\"color: #00d7ff; text-decoration-color: #00d7ff\">None</span>, <span style=\"color: #00af00; text-decoration-color: #00af00\">256</span>)       │          <span style=\"color: #00af00; text-decoration-color: #00af00\">0</span> │ mu[<span style=\"color: #00af00; text-decoration-color: #00af00\">0</span>][<span style=\"color: #00af00; text-decoration-color: #00af00\">0</span>],         │\n",
       "│                     │                   │            │ sigma[<span style=\"color: #00af00; text-decoration-color: #00af00\">0</span>][<span style=\"color: #00af00; text-decoration-color: #00af00\">0</span>]       │\n",
       "└─────────────────────┴───────────────────┴────────────┴───────────────────┘\n",
       "</pre>\n"
      ]
     },
     "metadata": {},
     "output_type": "display_data"
    },
    {
     "data": {
      "text/plain": [
       "\u001B[1m Total params: \u001B[0m\u001B[38;5;34m33,578,976\u001B[0m (128.09 MB)\n"
      ],
      "text/html": [
       "<pre style=\"white-space:pre;overflow-x:auto;line-height:normal;font-family:Menlo,'DejaVu Sans Mono',consolas,'Courier New',monospace\"><span style=\"font-weight: bold\"> Total params: </span><span style=\"color: #00af00; text-decoration-color: #00af00\">33,578,976</span> (128.09 MB)\n",
       "</pre>\n"
      ]
     },
     "metadata": {},
     "output_type": "display_data"
    },
    {
     "data": {
      "text/plain": [
       "\u001B[1m Trainable params: \u001B[0m\u001B[38;5;34m33,578,752\u001B[0m (128.09 MB)\n"
      ],
      "text/html": [
       "<pre style=\"white-space:pre;overflow-x:auto;line-height:normal;font-family:Menlo,'DejaVu Sans Mono',consolas,'Courier New',monospace\"><span style=\"font-weight: bold\"> Trainable params: </span><span style=\"color: #00af00; text-decoration-color: #00af00\">33,578,752</span> (128.09 MB)\n",
       "</pre>\n"
      ]
     },
     "metadata": {},
     "output_type": "display_data"
    },
    {
     "data": {
      "text/plain": [
       "\u001B[1m Non-trainable params: \u001B[0m\u001B[38;5;34m224\u001B[0m (896.00 B)\n"
      ],
      "text/html": [
       "<pre style=\"white-space:pre;overflow-x:auto;line-height:normal;font-family:Menlo,'DejaVu Sans Mono',consolas,'Courier New',monospace\"><span style=\"font-weight: bold\"> Non-trainable params: </span><span style=\"color: #00af00; text-decoration-color: #00af00\">224</span> (896.00 B)\n",
       "</pre>\n"
      ]
     },
     "metadata": {},
     "output_type": "display_data"
    }
   ],
   "execution_count": 18
  },
  {
   "metadata": {},
   "cell_type": "code",
   "outputs": [],
   "execution_count": null,
   "source": "",
   "id": "301c5d191ba410cf"
  },
  {
   "metadata": {
    "ExecuteTime": {
     "end_time": "2025-04-02T22:50:59.991162Z",
     "start_time": "2025-04-02T22:50:59.981496Z"
    }
   },
   "cell_type": "code",
   "source": "vae.summary()",
   "id": "70850cd630e75bae",
   "outputs": [
    {
     "data": {
      "text/plain": [
       "\u001B[1mModel: \"vae\"\u001B[0m\n"
      ],
      "text/html": [
       "<pre style=\"white-space:pre;overflow-x:auto;line-height:normal;font-family:Menlo,'DejaVu Sans Mono',consolas,'Courier New',monospace\"><span style=\"font-weight: bold\">Model: \"vae\"</span>\n",
       "</pre>\n"
      ]
     },
     "metadata": {},
     "output_type": "display_data"
    },
    {
     "data": {
      "text/plain": [
       "┏━━━━━━━━━━━━━━━━━━━━━━━━━━━━━━━━━┳━━━━━━━━━━━━━━━━━━━━━━━━┳━━━━━━━━━━━━━━━┓\n",
       "┃\u001B[1m \u001B[0m\u001B[1mLayer (type)                   \u001B[0m\u001B[1m \u001B[0m┃\u001B[1m \u001B[0m\u001B[1mOutput Shape          \u001B[0m\u001B[1m \u001B[0m┃\u001B[1m \u001B[0m\u001B[1m      Param #\u001B[0m\u001B[1m \u001B[0m┃\n",
       "┡━━━━━━━━━━━━━━━━━━━━━━━━━━━━━━━━━╇━━━━━━━━━━━━━━━━━━━━━━━━╇━━━━━━━━━━━━━━━┩\n",
       "│ input_layer_8 (\u001B[38;5;33mInputLayer\u001B[0m)      │ (\u001B[38;5;45mNone\u001B[0m, \u001B[38;5;34m256\u001B[0m, \u001B[38;5;34m256\u001B[0m, \u001B[38;5;34m3\u001B[0m)    │             \u001B[38;5;34m0\u001B[0m │\n",
       "├─────────────────────────────────┼────────────────────────┼───────────────┤\n",
       "│ encoder (\u001B[38;5;33mFunctional\u001B[0m)            │ [(\u001B[38;5;45mNone\u001B[0m, \u001B[38;5;34m256\u001B[0m), (\u001B[38;5;45mNone\u001B[0m,   │    \u001B[38;5;34m33,578,976\u001B[0m │\n",
       "│                                 │ \u001B[38;5;34m256\u001B[0m), (\u001B[38;5;45mNone\u001B[0m, \u001B[38;5;34m256\u001B[0m)]     │               │\n",
       "├─────────────────────────────────┼────────────────────────┼───────────────┤\n",
       "│ decoder (\u001B[38;5;33mFunctional\u001B[0m)            │ (\u001B[38;5;45mNone\u001B[0m, \u001B[38;5;34m256\u001B[0m, \u001B[38;5;34m256\u001B[0m, \u001B[38;5;34m3\u001B[0m)    │    \u001B[38;5;34m17,014,243\u001B[0m │\n",
       "└─────────────────────────────────┴────────────────────────┴───────────────┘\n"
      ],
      "text/html": [
       "<pre style=\"white-space:pre;overflow-x:auto;line-height:normal;font-family:Menlo,'DejaVu Sans Mono',consolas,'Courier New',monospace\">┏━━━━━━━━━━━━━━━━━━━━━━━━━━━━━━━━━┳━━━━━━━━━━━━━━━━━━━━━━━━┳━━━━━━━━━━━━━━━┓\n",
       "┃<span style=\"font-weight: bold\"> Layer (type)                    </span>┃<span style=\"font-weight: bold\"> Output Shape           </span>┃<span style=\"font-weight: bold\">       Param # </span>┃\n",
       "┡━━━━━━━━━━━━━━━━━━━━━━━━━━━━━━━━━╇━━━━━━━━━━━━━━━━━━━━━━━━╇━━━━━━━━━━━━━━━┩\n",
       "│ input_layer_8 (<span style=\"color: #0087ff; text-decoration-color: #0087ff\">InputLayer</span>)      │ (<span style=\"color: #00d7ff; text-decoration-color: #00d7ff\">None</span>, <span style=\"color: #00af00; text-decoration-color: #00af00\">256</span>, <span style=\"color: #00af00; text-decoration-color: #00af00\">256</span>, <span style=\"color: #00af00; text-decoration-color: #00af00\">3</span>)    │             <span style=\"color: #00af00; text-decoration-color: #00af00\">0</span> │\n",
       "├─────────────────────────────────┼────────────────────────┼───────────────┤\n",
       "│ encoder (<span style=\"color: #0087ff; text-decoration-color: #0087ff\">Functional</span>)            │ [(<span style=\"color: #00d7ff; text-decoration-color: #00d7ff\">None</span>, <span style=\"color: #00af00; text-decoration-color: #00af00\">256</span>), (<span style=\"color: #00d7ff; text-decoration-color: #00d7ff\">None</span>,   │    <span style=\"color: #00af00; text-decoration-color: #00af00\">33,578,976</span> │\n",
       "│                                 │ <span style=\"color: #00af00; text-decoration-color: #00af00\">256</span>), (<span style=\"color: #00d7ff; text-decoration-color: #00d7ff\">None</span>, <span style=\"color: #00af00; text-decoration-color: #00af00\">256</span>)]     │               │\n",
       "├─────────────────────────────────┼────────────────────────┼───────────────┤\n",
       "│ decoder (<span style=\"color: #0087ff; text-decoration-color: #0087ff\">Functional</span>)            │ (<span style=\"color: #00d7ff; text-decoration-color: #00d7ff\">None</span>, <span style=\"color: #00af00; text-decoration-color: #00af00\">256</span>, <span style=\"color: #00af00; text-decoration-color: #00af00\">256</span>, <span style=\"color: #00af00; text-decoration-color: #00af00\">3</span>)    │    <span style=\"color: #00af00; text-decoration-color: #00af00\">17,014,243</span> │\n",
       "└─────────────────────────────────┴────────────────────────┴───────────────┘\n",
       "</pre>\n"
      ]
     },
     "metadata": {},
     "output_type": "display_data"
    },
    {
     "data": {
      "text/plain": [
       "\u001B[1m Total params: \u001B[0m\u001B[38;5;34m50,593,219\u001B[0m (193.00 MB)\n"
      ],
      "text/html": [
       "<pre style=\"white-space:pre;overflow-x:auto;line-height:normal;font-family:Menlo,'DejaVu Sans Mono',consolas,'Courier New',monospace\"><span style=\"font-weight: bold\"> Total params: </span><span style=\"color: #00af00; text-decoration-color: #00af00\">50,593,219</span> (193.00 MB)\n",
       "</pre>\n"
      ]
     },
     "metadata": {},
     "output_type": "display_data"
    },
    {
     "data": {
      "text/plain": [
       "\u001B[1m Trainable params: \u001B[0m\u001B[38;5;34m50,592,771\u001B[0m (193.00 MB)\n"
      ],
      "text/html": [
       "<pre style=\"white-space:pre;overflow-x:auto;line-height:normal;font-family:Menlo,'DejaVu Sans Mono',consolas,'Courier New',monospace\"><span style=\"font-weight: bold\"> Trainable params: </span><span style=\"color: #00af00; text-decoration-color: #00af00\">50,592,771</span> (193.00 MB)\n",
       "</pre>\n"
      ]
     },
     "metadata": {},
     "output_type": "display_data"
    },
    {
     "data": {
      "text/plain": [
       "\u001B[1m Non-trainable params: \u001B[0m\u001B[38;5;34m448\u001B[0m (1.75 KB)\n"
      ],
      "text/html": [
       "<pre style=\"white-space:pre;overflow-x:auto;line-height:normal;font-family:Menlo,'DejaVu Sans Mono',consolas,'Courier New',monospace\"><span style=\"font-weight: bold\"> Non-trainable params: </span><span style=\"color: #00af00; text-decoration-color: #00af00\">448</span> (1.75 KB)\n",
       "</pre>\n"
      ]
     },
     "metadata": {},
     "output_type": "display_data"
    }
   ],
   "execution_count": 16
  },
  {
   "metadata": {
    "ExecuteTime": {
     "end_time": "2025-04-02T23:16:46.656296Z",
     "start_time": "2025-04-02T22:51:00.056130Z"
    }
   },
   "cell_type": "code",
   "source": [
    "history = vae.fit(\n",
    "    train_ds,\n",
    "    validation_data=val_ds,\n",
    "    epochs=100,\n",
    "    steps_per_epoch=50,\n",
    "    validation_steps=50,\n",
    "    verbose=2\n",
    ")"
   ],
   "id": "53e0ec78a726c4f1",
   "outputs": [
    {
     "name": "stdout",
     "output_type": "stream",
     "text": [
      "Epoch 1/100\n"
     ]
    },
    {
     "name": "stderr",
     "output_type": "stream",
     "text": [
      "/home/maciejka/Desktop/school/S8/labwork-project/.venv/lib/python3.12/site-packages/keras/src/trainers/epoch_iterator.py:107: UserWarning: Your input ran out of data; interrupting training. Make sure that your dataset or generator can generate at least `steps_per_epoch * epochs` batches. You may need to use the `.repeat()` function when building your dataset.\n",
      "  self._interrupted_warning()\n"
     ]
    },
    {
     "name": "stdout",
     "output_type": "stream",
     "text": [
      "50/50 - 21s - 423ms/step - loss: 0.1412 - val_loss: 0.1431\n",
      "Epoch 2/100\n",
      "50/50 - 16s - 323ms/step - loss: 0.1351 - val_loss: 0.1419\n",
      "Epoch 3/100\n",
      "50/50 - 16s - 325ms/step - loss: nan - val_loss: nan\n",
      "Epoch 4/100\n",
      "50/50 - 15s - 308ms/step - loss: nan - val_loss: nan\n",
      "Epoch 5/100\n",
      "50/50 - 17s - 341ms/step - loss: nan - val_loss: nan\n",
      "Epoch 6/100\n",
      "50/50 - 15s - 307ms/step - loss: nan - val_loss: nan\n",
      "Epoch 7/100\n",
      "50/50 - 15s - 304ms/step - loss: nan - val_loss: nan\n",
      "Epoch 8/100\n",
      "50/50 - 15s - 306ms/step - loss: nan - val_loss: nan\n",
      "Epoch 9/100\n",
      "50/50 - 15s - 308ms/step - loss: nan - val_loss: nan\n",
      "Epoch 10/100\n",
      "50/50 - 15s - 307ms/step - loss: nan - val_loss: nan\n",
      "Epoch 11/100\n",
      "50/50 - 15s - 306ms/step - loss: nan - val_loss: nan\n",
      "Epoch 12/100\n",
      "50/50 - 15s - 308ms/step - loss: nan - val_loss: nan\n",
      "Epoch 13/100\n",
      "50/50 - 15s - 309ms/step - loss: nan - val_loss: nan\n",
      "Epoch 14/100\n",
      "50/50 - 15s - 306ms/step - loss: nan - val_loss: nan\n",
      "Epoch 15/100\n",
      "50/50 - 15s - 306ms/step - loss: nan - val_loss: nan\n",
      "Epoch 16/100\n",
      "50/50 - 16s - 311ms/step - loss: nan - val_loss: nan\n",
      "Epoch 17/100\n",
      "50/50 - 15s - 306ms/step - loss: nan - val_loss: nan\n",
      "Epoch 18/100\n",
      "50/50 - 15s - 305ms/step - loss: nan - val_loss: nan\n",
      "Epoch 19/100\n",
      "50/50 - 15s - 309ms/step - loss: nan - val_loss: nan\n",
      "Epoch 20/100\n",
      "50/50 - 15s - 309ms/step - loss: nan - val_loss: nan\n",
      "Epoch 21/100\n",
      "50/50 - 15s - 307ms/step - loss: nan - val_loss: nan\n",
      "Epoch 22/100\n",
      "50/50 - 15s - 307ms/step - loss: nan - val_loss: nan\n",
      "Epoch 23/100\n",
      "50/50 - 15s - 308ms/step - loss: nan - val_loss: nan\n",
      "Epoch 24/100\n",
      "50/50 - 15s - 309ms/step - loss: nan - val_loss: nan\n",
      "Epoch 25/100\n",
      "50/50 - 15s - 307ms/step - loss: nan - val_loss: nan\n",
      "Epoch 26/100\n",
      "50/50 - 15s - 306ms/step - loss: nan - val_loss: nan\n",
      "Epoch 27/100\n",
      "50/50 - 15s - 306ms/step - loss: nan - val_loss: nan\n",
      "Epoch 28/100\n",
      "50/50 - 15s - 309ms/step - loss: nan - val_loss: nan\n",
      "Epoch 29/100\n",
      "50/50 - 16s - 317ms/step - loss: nan - val_loss: nan\n",
      "Epoch 30/100\n",
      "50/50 - 15s - 307ms/step - loss: nan - val_loss: nan\n",
      "Epoch 31/100\n",
      "50/50 - 15s - 308ms/step - loss: nan - val_loss: nan\n",
      "Epoch 32/100\n",
      "50/50 - 15s - 309ms/step - loss: nan - val_loss: nan\n",
      "Epoch 33/100\n",
      "50/50 - 15s - 306ms/step - loss: nan - val_loss: nan\n",
      "Epoch 34/100\n",
      "50/50 - 15s - 307ms/step - loss: nan - val_loss: nan\n",
      "Epoch 35/100\n",
      "50/50 - 15s - 308ms/step - loss: nan - val_loss: nan\n",
      "Epoch 36/100\n",
      "50/50 - 16s - 313ms/step - loss: nan - val_loss: nan\n",
      "Epoch 37/100\n",
      "50/50 - 15s - 307ms/step - loss: nan - val_loss: nan\n",
      "Epoch 38/100\n",
      "50/50 - 15s - 307ms/step - loss: nan - val_loss: nan\n",
      "Epoch 39/100\n",
      "50/50 - 15s - 306ms/step - loss: nan - val_loss: nan\n",
      "Epoch 40/100\n",
      "50/50 - 15s - 309ms/step - loss: nan - val_loss: nan\n",
      "Epoch 41/100\n",
      "50/50 - 15s - 307ms/step - loss: nan - val_loss: nan\n",
      "Epoch 42/100\n",
      "50/50 - 15s - 307ms/step - loss: nan - val_loss: nan\n",
      "Epoch 43/100\n",
      "50/50 - 15s - 308ms/step - loss: nan - val_loss: nan\n",
      "Epoch 44/100\n",
      "50/50 - 15s - 309ms/step - loss: nan - val_loss: nan\n",
      "Epoch 45/100\n",
      "50/50 - 15s - 306ms/step - loss: nan - val_loss: nan\n",
      "Epoch 46/100\n",
      "50/50 - 15s - 307ms/step - loss: nan - val_loss: nan\n",
      "Epoch 47/100\n",
      "50/50 - 15s - 307ms/step - loss: nan - val_loss: nan\n",
      "Epoch 48/100\n",
      "50/50 - 15s - 308ms/step - loss: nan - val_loss: nan\n",
      "Epoch 49/100\n",
      "50/50 - 15s - 306ms/step - loss: nan - val_loss: nan\n",
      "Epoch 50/100\n",
      "50/50 - 15s - 307ms/step - loss: nan - val_loss: nan\n",
      "Epoch 51/100\n",
      "50/50 - 15s - 307ms/step - loss: nan - val_loss: nan\n",
      "Epoch 52/100\n",
      "50/50 - 15s - 308ms/step - loss: nan - val_loss: nan\n",
      "Epoch 53/100\n",
      "50/50 - 15s - 305ms/step - loss: nan - val_loss: nan\n",
      "Epoch 54/100\n",
      "50/50 - 15s - 308ms/step - loss: nan - val_loss: nan\n",
      "Epoch 55/100\n",
      "50/50 - 15s - 307ms/step - loss: nan - val_loss: nan\n",
      "Epoch 56/100\n",
      "50/50 - 15s - 308ms/step - loss: nan - val_loss: nan\n",
      "Epoch 57/100\n",
      "50/50 - 15s - 307ms/step - loss: nan - val_loss: nan\n",
      "Epoch 58/100\n",
      "50/50 - 15s - 306ms/step - loss: nan - val_loss: nan\n",
      "Epoch 59/100\n",
      "50/50 - 16s - 311ms/step - loss: nan - val_loss: nan\n",
      "Epoch 60/100\n",
      "50/50 - 15s - 308ms/step - loss: nan - val_loss: nan\n",
      "Epoch 61/100\n",
      "50/50 - 15s - 306ms/step - loss: nan - val_loss: nan\n",
      "Epoch 62/100\n",
      "50/50 - 15s - 307ms/step - loss: nan - val_loss: nan\n",
      "Epoch 63/100\n",
      "50/50 - 15s - 309ms/step - loss: nan - val_loss: nan\n",
      "Epoch 64/100\n",
      "50/50 - 15s - 307ms/step - loss: nan - val_loss: nan\n",
      "Epoch 65/100\n",
      "50/50 - 15s - 306ms/step - loss: nan - val_loss: nan\n",
      "Epoch 66/100\n",
      "50/50 - 15s - 306ms/step - loss: nan - val_loss: nan\n",
      "Epoch 67/100\n",
      "50/50 - 15s - 309ms/step - loss: nan - val_loss: nan\n",
      "Epoch 68/100\n",
      "50/50 - 15s - 306ms/step - loss: nan - val_loss: nan\n",
      "Epoch 69/100\n",
      "50/50 - 15s - 307ms/step - loss: nan - val_loss: nan\n",
      "Epoch 70/100\n",
      "50/50 - 15s - 307ms/step - loss: nan - val_loss: nan\n",
      "Epoch 71/100\n",
      "50/50 - 16s - 311ms/step - loss: nan - val_loss: nan\n",
      "Epoch 72/100\n",
      "50/50 - 15s - 307ms/step - loss: nan - val_loss: nan\n",
      "Epoch 73/100\n",
      "50/50 - 16s - 315ms/step - loss: nan - val_loss: nan\n",
      "Epoch 74/100\n",
      "50/50 - 15s - 305ms/step - loss: nan - val_loss: nan\n",
      "Epoch 75/100\n",
      "50/50 - 15s - 308ms/step - loss: nan - val_loss: nan\n",
      "Epoch 76/100\n",
      "50/50 - 15s - 306ms/step - loss: nan - val_loss: nan\n",
      "Epoch 77/100\n",
      "50/50 - 15s - 307ms/step - loss: nan - val_loss: nan\n",
      "Epoch 78/100\n",
      "50/50 - 15s - 307ms/step - loss: nan - val_loss: nan\n",
      "Epoch 79/100\n",
      "50/50 - 15s - 309ms/step - loss: nan - val_loss: nan\n",
      "Epoch 80/100\n",
      "50/50 - 15s - 307ms/step - loss: nan - val_loss: nan\n",
      "Epoch 81/100\n",
      "50/50 - 15s - 306ms/step - loss: nan - val_loss: nan\n",
      "Epoch 82/100\n",
      "50/50 - 15s - 306ms/step - loss: nan - val_loss: nan\n",
      "Epoch 83/100\n",
      "50/50 - 15s - 310ms/step - loss: nan - val_loss: nan\n",
      "Epoch 84/100\n",
      "50/50 - 15s - 306ms/step - loss: nan - val_loss: nan\n",
      "Epoch 85/100\n",
      "50/50 - 15s - 305ms/step - loss: nan - val_loss: nan\n",
      "Epoch 86/100\n",
      "50/50 - 15s - 307ms/step - loss: nan - val_loss: nan\n",
      "Epoch 87/100\n",
      "50/50 - 15s - 309ms/step - loss: nan - val_loss: nan\n",
      "Epoch 88/100\n",
      "50/50 - 15s - 306ms/step - loss: nan - val_loss: nan\n",
      "Epoch 89/100\n",
      "50/50 - 15s - 305ms/step - loss: nan - val_loss: nan\n",
      "Epoch 90/100\n",
      "50/50 - 15s - 304ms/step - loss: nan - val_loss: nan\n",
      "Epoch 91/100\n",
      "50/50 - 15s - 309ms/step - loss: nan - val_loss: nan\n",
      "Epoch 92/100\n",
      "50/50 - 15s - 306ms/step - loss: nan - val_loss: nan\n",
      "Epoch 93/100\n",
      "50/50 - 15s - 306ms/step - loss: nan - val_loss: nan\n",
      "Epoch 94/100\n",
      "50/50 - 15s - 308ms/step - loss: nan - val_loss: nan\n",
      "Epoch 95/100\n",
      "50/50 - 15s - 309ms/step - loss: nan - val_loss: nan\n",
      "Epoch 96/100\n",
      "50/50 - 15s - 306ms/step - loss: nan - val_loss: nan\n",
      "Epoch 97/100\n",
      "50/50 - 15s - 307ms/step - loss: nan - val_loss: nan\n",
      "Epoch 98/100\n",
      "50/50 - 15s - 306ms/step - loss: nan - val_loss: nan\n",
      "Epoch 99/100\n",
      "50/50 - 15s - 310ms/step - loss: nan - val_loss: nan\n",
      "Epoch 100/100\n",
      "50/50 - 15s - 307ms/step - loss: nan - val_loss: nan\n"
     ]
    }
   ],
   "execution_count": 17
  }
 ],
 "metadata": {
  "kernelspec": {
   "display_name": "Python 3",
   "language": "python",
   "name": "python3"
  },
  "language_info": {
   "codemirror_mode": {
    "name": "ipython",
    "version": 2
   },
   "file_extension": ".py",
   "mimetype": "text/x-python",
   "name": "python",
   "nbconvert_exporter": "python",
   "pygments_lexer": "ipython2",
   "version": "2.7.6"
  }
 },
 "nbformat": 4,
 "nbformat_minor": 5
}
